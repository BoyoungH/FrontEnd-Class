{
  "nbformat": 4,
  "nbformat_minor": 0,
  "metadata": {
    "colab": {
      "provenance": [],
      "gpuType": "V100",
      "gpuClass": "premium",
      "include_colab_link": true
    },
    "kernelspec": {
      "name": "python3",
      "display_name": "Python 3"
    },
    "accelerator": "GPU",
    "widgets": {
      "application/vnd.jupyter.widget-state+json": {
        "3d18953838fe47f3ab4c82cdb013fb08": {
          "model_module": "@jupyter-widgets/controls",
          "model_name": "HBoxModel",
          "model_module_version": "1.5.0",
          "state": {
            "_dom_classes": [],
            "_model_module": "@jupyter-widgets/controls",
            "_model_module_version": "1.5.0",
            "_model_name": "HBoxModel",
            "_view_count": null,
            "_view_module": "@jupyter-widgets/controls",
            "_view_module_version": "1.5.0",
            "_view_name": "HBoxView",
            "box_style": "",
            "children": [
              "IPY_MODEL_f14642cece8d4cbbaa14a035865d386c",
              "IPY_MODEL_193f67e4e5674e7dbbac6ebddb6430c1",
              "IPY_MODEL_f70a1abf174b4ad692baa1a4c413c5dc"
            ],
            "layout": "IPY_MODEL_f8b78065c3214f238a7ba722a65323e3"
          }
        },
        "f14642cece8d4cbbaa14a035865d386c": {
          "model_module": "@jupyter-widgets/controls",
          "model_name": "HTMLModel",
          "model_module_version": "1.5.0",
          "state": {
            "_dom_classes": [],
            "_model_module": "@jupyter-widgets/controls",
            "_model_module_version": "1.5.0",
            "_model_name": "HTMLModel",
            "_view_count": null,
            "_view_module": "@jupyter-widgets/controls",
            "_view_module_version": "1.5.0",
            "_view_name": "HTMLView",
            "description": "",
            "description_tooltip": null,
            "layout": "IPY_MODEL_afc0b15c6c9a472a9c3df6bbe748e6d1",
            "placeholder": "​",
            "style": "IPY_MODEL_744019fc54d64cc08bbcdb9622b9132d",
            "value": "Downloading (…)zer_78b3253a26.model: 100%"
          }
        },
        "193f67e4e5674e7dbbac6ebddb6430c1": {
          "model_module": "@jupyter-widgets/controls",
          "model_name": "FloatProgressModel",
          "model_module_version": "1.5.0",
          "state": {
            "_dom_classes": [],
            "_model_module": "@jupyter-widgets/controls",
            "_model_module_version": "1.5.0",
            "_model_name": "FloatProgressModel",
            "_view_count": null,
            "_view_module": "@jupyter-widgets/controls",
            "_view_module_version": "1.5.0",
            "_view_name": "ProgressView",
            "bar_style": "success",
            "description": "",
            "description_tooltip": null,
            "layout": "IPY_MODEL_41d4b004c94d4f66811324051bae0573",
            "max": 371391,
            "min": 0,
            "orientation": "horizontal",
            "style": "IPY_MODEL_6dc7d69ae00c434cbeb0202b62743a1c",
            "value": 371391
          }
        },
        "f70a1abf174b4ad692baa1a4c413c5dc": {
          "model_module": "@jupyter-widgets/controls",
          "model_name": "HTMLModel",
          "model_module_version": "1.5.0",
          "state": {
            "_dom_classes": [],
            "_model_module": "@jupyter-widgets/controls",
            "_model_module_version": "1.5.0",
            "_model_name": "HTMLModel",
            "_view_count": null,
            "_view_module": "@jupyter-widgets/controls",
            "_view_module_version": "1.5.0",
            "_view_name": "HTMLView",
            "description": "",
            "description_tooltip": null,
            "layout": "IPY_MODEL_ecf1f61e4f8541cea429ca06fb969291",
            "placeholder": "​",
            "style": "IPY_MODEL_b661f5944e9a4b1bbc1071b3e671b413",
            "value": " 371k/371k [00:00&lt;00:00, 650kB/s]"
          }
        },
        "f8b78065c3214f238a7ba722a65323e3": {
          "model_module": "@jupyter-widgets/base",
          "model_name": "LayoutModel",
          "model_module_version": "1.2.0",
          "state": {
            "_model_module": "@jupyter-widgets/base",
            "_model_module_version": "1.2.0",
            "_model_name": "LayoutModel",
            "_view_count": null,
            "_view_module": "@jupyter-widgets/base",
            "_view_module_version": "1.2.0",
            "_view_name": "LayoutView",
            "align_content": null,
            "align_items": null,
            "align_self": null,
            "border": null,
            "bottom": null,
            "display": null,
            "flex": null,
            "flex_flow": null,
            "grid_area": null,
            "grid_auto_columns": null,
            "grid_auto_flow": null,
            "grid_auto_rows": null,
            "grid_column": null,
            "grid_gap": null,
            "grid_row": null,
            "grid_template_areas": null,
            "grid_template_columns": null,
            "grid_template_rows": null,
            "height": null,
            "justify_content": null,
            "justify_items": null,
            "left": null,
            "margin": null,
            "max_height": null,
            "max_width": null,
            "min_height": null,
            "min_width": null,
            "object_fit": null,
            "object_position": null,
            "order": null,
            "overflow": null,
            "overflow_x": null,
            "overflow_y": null,
            "padding": null,
            "right": null,
            "top": null,
            "visibility": null,
            "width": null
          }
        },
        "afc0b15c6c9a472a9c3df6bbe748e6d1": {
          "model_module": "@jupyter-widgets/base",
          "model_name": "LayoutModel",
          "model_module_version": "1.2.0",
          "state": {
            "_model_module": "@jupyter-widgets/base",
            "_model_module_version": "1.2.0",
            "_model_name": "LayoutModel",
            "_view_count": null,
            "_view_module": "@jupyter-widgets/base",
            "_view_module_version": "1.2.0",
            "_view_name": "LayoutView",
            "align_content": null,
            "align_items": null,
            "align_self": null,
            "border": null,
            "bottom": null,
            "display": null,
            "flex": null,
            "flex_flow": null,
            "grid_area": null,
            "grid_auto_columns": null,
            "grid_auto_flow": null,
            "grid_auto_rows": null,
            "grid_column": null,
            "grid_gap": null,
            "grid_row": null,
            "grid_template_areas": null,
            "grid_template_columns": null,
            "grid_template_rows": null,
            "height": null,
            "justify_content": null,
            "justify_items": null,
            "left": null,
            "margin": null,
            "max_height": null,
            "max_width": null,
            "min_height": null,
            "min_width": null,
            "object_fit": null,
            "object_position": null,
            "order": null,
            "overflow": null,
            "overflow_x": null,
            "overflow_y": null,
            "padding": null,
            "right": null,
            "top": null,
            "visibility": null,
            "width": null
          }
        },
        "744019fc54d64cc08bbcdb9622b9132d": {
          "model_module": "@jupyter-widgets/controls",
          "model_name": "DescriptionStyleModel",
          "model_module_version": "1.5.0",
          "state": {
            "_model_module": "@jupyter-widgets/controls",
            "_model_module_version": "1.5.0",
            "_model_name": "DescriptionStyleModel",
            "_view_count": null,
            "_view_module": "@jupyter-widgets/base",
            "_view_module_version": "1.2.0",
            "_view_name": "StyleView",
            "description_width": ""
          }
        },
        "41d4b004c94d4f66811324051bae0573": {
          "model_module": "@jupyter-widgets/base",
          "model_name": "LayoutModel",
          "model_module_version": "1.2.0",
          "state": {
            "_model_module": "@jupyter-widgets/base",
            "_model_module_version": "1.2.0",
            "_model_name": "LayoutModel",
            "_view_count": null,
            "_view_module": "@jupyter-widgets/base",
            "_view_module_version": "1.2.0",
            "_view_name": "LayoutView",
            "align_content": null,
            "align_items": null,
            "align_self": null,
            "border": null,
            "bottom": null,
            "display": null,
            "flex": null,
            "flex_flow": null,
            "grid_area": null,
            "grid_auto_columns": null,
            "grid_auto_flow": null,
            "grid_auto_rows": null,
            "grid_column": null,
            "grid_gap": null,
            "grid_row": null,
            "grid_template_areas": null,
            "grid_template_columns": null,
            "grid_template_rows": null,
            "height": null,
            "justify_content": null,
            "justify_items": null,
            "left": null,
            "margin": null,
            "max_height": null,
            "max_width": null,
            "min_height": null,
            "min_width": null,
            "object_fit": null,
            "object_position": null,
            "order": null,
            "overflow": null,
            "overflow_x": null,
            "overflow_y": null,
            "padding": null,
            "right": null,
            "top": null,
            "visibility": null,
            "width": null
          }
        },
        "6dc7d69ae00c434cbeb0202b62743a1c": {
          "model_module": "@jupyter-widgets/controls",
          "model_name": "ProgressStyleModel",
          "model_module_version": "1.5.0",
          "state": {
            "_model_module": "@jupyter-widgets/controls",
            "_model_module_version": "1.5.0",
            "_model_name": "ProgressStyleModel",
            "_view_count": null,
            "_view_module": "@jupyter-widgets/base",
            "_view_module_version": "1.2.0",
            "_view_name": "StyleView",
            "bar_color": null,
            "description_width": ""
          }
        },
        "ecf1f61e4f8541cea429ca06fb969291": {
          "model_module": "@jupyter-widgets/base",
          "model_name": "LayoutModel",
          "model_module_version": "1.2.0",
          "state": {
            "_model_module": "@jupyter-widgets/base",
            "_model_module_version": "1.2.0",
            "_model_name": "LayoutModel",
            "_view_count": null,
            "_view_module": "@jupyter-widgets/base",
            "_view_module_version": "1.2.0",
            "_view_name": "LayoutView",
            "align_content": null,
            "align_items": null,
            "align_self": null,
            "border": null,
            "bottom": null,
            "display": null,
            "flex": null,
            "flex_flow": null,
            "grid_area": null,
            "grid_auto_columns": null,
            "grid_auto_flow": null,
            "grid_auto_rows": null,
            "grid_column": null,
            "grid_gap": null,
            "grid_row": null,
            "grid_template_areas": null,
            "grid_template_columns": null,
            "grid_template_rows": null,
            "height": null,
            "justify_content": null,
            "justify_items": null,
            "left": null,
            "margin": null,
            "max_height": null,
            "max_width": null,
            "min_height": null,
            "min_width": null,
            "object_fit": null,
            "object_position": null,
            "order": null,
            "overflow": null,
            "overflow_x": null,
            "overflow_y": null,
            "padding": null,
            "right": null,
            "top": null,
            "visibility": null,
            "width": null
          }
        },
        "b661f5944e9a4b1bbc1071b3e671b413": {
          "model_module": "@jupyter-widgets/controls",
          "model_name": "DescriptionStyleModel",
          "model_module_version": "1.5.0",
          "state": {
            "_model_module": "@jupyter-widgets/controls",
            "_model_module_version": "1.5.0",
            "_model_name": "DescriptionStyleModel",
            "_view_count": null,
            "_view_module": "@jupyter-widgets/base",
            "_view_module_version": "1.2.0",
            "_view_name": "StyleView",
            "description_width": ""
          }
        },
        "e7547f53769b43b7b29cd78f124f6e16": {
          "model_module": "@jupyter-widgets/controls",
          "model_name": "HBoxModel",
          "model_module_version": "1.5.0",
          "state": {
            "_dom_classes": [],
            "_model_module": "@jupyter-widgets/controls",
            "_model_module_version": "1.5.0",
            "_model_name": "HBoxModel",
            "_view_count": null,
            "_view_module": "@jupyter-widgets/controls",
            "_view_module_version": "1.5.0",
            "_view_name": "HBoxView",
            "box_style": "",
            "children": [
              "IPY_MODEL_0563d3c53d584f44abe75cc46538d6e4",
              "IPY_MODEL_4f7bee8fb7c9492098a381c5a872a14e",
              "IPY_MODEL_671fbcb8678444fbb0f57f43c0932b3a"
            ],
            "layout": "IPY_MODEL_1b5bb55fbc9142e8bc13b747f4b81521"
          }
        },
        "0563d3c53d584f44abe75cc46538d6e4": {
          "model_module": "@jupyter-widgets/controls",
          "model_name": "HTMLModel",
          "model_module_version": "1.5.0",
          "state": {
            "_dom_classes": [],
            "_model_module": "@jupyter-widgets/controls",
            "_model_module_version": "1.5.0",
            "_model_name": "HTMLModel",
            "_view_count": null,
            "_view_module": "@jupyter-widgets/controls",
            "_view_module_version": "1.5.0",
            "_view_name": "HTMLView",
            "description": "",
            "description_tooltip": null,
            "layout": "IPY_MODEL_3ae3e76e151343a3ae7e45e1c887de9e",
            "placeholder": "​",
            "style": "IPY_MODEL_2d8f3c2e1bb5485b90ad6dd9a6877f0a",
            "value": "Downloading (…)solve/main/vocab.txt: 100%"
          }
        },
        "4f7bee8fb7c9492098a381c5a872a14e": {
          "model_module": "@jupyter-widgets/controls",
          "model_name": "FloatProgressModel",
          "model_module_version": "1.5.0",
          "state": {
            "_dom_classes": [],
            "_model_module": "@jupyter-widgets/controls",
            "_model_module_version": "1.5.0",
            "_model_name": "FloatProgressModel",
            "_view_count": null,
            "_view_module": "@jupyter-widgets/controls",
            "_view_module_version": "1.5.0",
            "_view_name": "ProgressView",
            "bar_style": "success",
            "description": "",
            "description_tooltip": null,
            "layout": "IPY_MODEL_d616dc19c6044118841c7823d8ab6c1d",
            "max": 77779,
            "min": 0,
            "orientation": "horizontal",
            "style": "IPY_MODEL_d1892f9c5f0d474387e3e3c1221b38c6",
            "value": 77779
          }
        },
        "671fbcb8678444fbb0f57f43c0932b3a": {
          "model_module": "@jupyter-widgets/controls",
          "model_name": "HTMLModel",
          "model_module_version": "1.5.0",
          "state": {
            "_dom_classes": [],
            "_model_module": "@jupyter-widgets/controls",
            "_model_module_version": "1.5.0",
            "_model_name": "HTMLModel",
            "_view_count": null,
            "_view_module": "@jupyter-widgets/controls",
            "_view_module_version": "1.5.0",
            "_view_name": "HTMLView",
            "description": "",
            "description_tooltip": null,
            "layout": "IPY_MODEL_a9c5ecff9fb5419e8156587b09a80a89",
            "placeholder": "​",
            "style": "IPY_MODEL_763f2a668c274fc0b15495cfd5084c32",
            "value": " 77.8k/77.8k [00:00&lt;00:00, 1.82MB/s]"
          }
        },
        "1b5bb55fbc9142e8bc13b747f4b81521": {
          "model_module": "@jupyter-widgets/base",
          "model_name": "LayoutModel",
          "model_module_version": "1.2.0",
          "state": {
            "_model_module": "@jupyter-widgets/base",
            "_model_module_version": "1.2.0",
            "_model_name": "LayoutModel",
            "_view_count": null,
            "_view_module": "@jupyter-widgets/base",
            "_view_module_version": "1.2.0",
            "_view_name": "LayoutView",
            "align_content": null,
            "align_items": null,
            "align_self": null,
            "border": null,
            "bottom": null,
            "display": null,
            "flex": null,
            "flex_flow": null,
            "grid_area": null,
            "grid_auto_columns": null,
            "grid_auto_flow": null,
            "grid_auto_rows": null,
            "grid_column": null,
            "grid_gap": null,
            "grid_row": null,
            "grid_template_areas": null,
            "grid_template_columns": null,
            "grid_template_rows": null,
            "height": null,
            "justify_content": null,
            "justify_items": null,
            "left": null,
            "margin": null,
            "max_height": null,
            "max_width": null,
            "min_height": null,
            "min_width": null,
            "object_fit": null,
            "object_position": null,
            "order": null,
            "overflow": null,
            "overflow_x": null,
            "overflow_y": null,
            "padding": null,
            "right": null,
            "top": null,
            "visibility": null,
            "width": null
          }
        },
        "3ae3e76e151343a3ae7e45e1c887de9e": {
          "model_module": "@jupyter-widgets/base",
          "model_name": "LayoutModel",
          "model_module_version": "1.2.0",
          "state": {
            "_model_module": "@jupyter-widgets/base",
            "_model_module_version": "1.2.0",
            "_model_name": "LayoutModel",
            "_view_count": null,
            "_view_module": "@jupyter-widgets/base",
            "_view_module_version": "1.2.0",
            "_view_name": "LayoutView",
            "align_content": null,
            "align_items": null,
            "align_self": null,
            "border": null,
            "bottom": null,
            "display": null,
            "flex": null,
            "flex_flow": null,
            "grid_area": null,
            "grid_auto_columns": null,
            "grid_auto_flow": null,
            "grid_auto_rows": null,
            "grid_column": null,
            "grid_gap": null,
            "grid_row": null,
            "grid_template_areas": null,
            "grid_template_columns": null,
            "grid_template_rows": null,
            "height": null,
            "justify_content": null,
            "justify_items": null,
            "left": null,
            "margin": null,
            "max_height": null,
            "max_width": null,
            "min_height": null,
            "min_width": null,
            "object_fit": null,
            "object_position": null,
            "order": null,
            "overflow": null,
            "overflow_x": null,
            "overflow_y": null,
            "padding": null,
            "right": null,
            "top": null,
            "visibility": null,
            "width": null
          }
        },
        "2d8f3c2e1bb5485b90ad6dd9a6877f0a": {
          "model_module": "@jupyter-widgets/controls",
          "model_name": "DescriptionStyleModel",
          "model_module_version": "1.5.0",
          "state": {
            "_model_module": "@jupyter-widgets/controls",
            "_model_module_version": "1.5.0",
            "_model_name": "DescriptionStyleModel",
            "_view_count": null,
            "_view_module": "@jupyter-widgets/base",
            "_view_module_version": "1.2.0",
            "_view_name": "StyleView",
            "description_width": ""
          }
        },
        "d616dc19c6044118841c7823d8ab6c1d": {
          "model_module": "@jupyter-widgets/base",
          "model_name": "LayoutModel",
          "model_module_version": "1.2.0",
          "state": {
            "_model_module": "@jupyter-widgets/base",
            "_model_module_version": "1.2.0",
            "_model_name": "LayoutModel",
            "_view_count": null,
            "_view_module": "@jupyter-widgets/base",
            "_view_module_version": "1.2.0",
            "_view_name": "LayoutView",
            "align_content": null,
            "align_items": null,
            "align_self": null,
            "border": null,
            "bottom": null,
            "display": null,
            "flex": null,
            "flex_flow": null,
            "grid_area": null,
            "grid_auto_columns": null,
            "grid_auto_flow": null,
            "grid_auto_rows": null,
            "grid_column": null,
            "grid_gap": null,
            "grid_row": null,
            "grid_template_areas": null,
            "grid_template_columns": null,
            "grid_template_rows": null,
            "height": null,
            "justify_content": null,
            "justify_items": null,
            "left": null,
            "margin": null,
            "max_height": null,
            "max_width": null,
            "min_height": null,
            "min_width": null,
            "object_fit": null,
            "object_position": null,
            "order": null,
            "overflow": null,
            "overflow_x": null,
            "overflow_y": null,
            "padding": null,
            "right": null,
            "top": null,
            "visibility": null,
            "width": null
          }
        },
        "d1892f9c5f0d474387e3e3c1221b38c6": {
          "model_module": "@jupyter-widgets/controls",
          "model_name": "ProgressStyleModel",
          "model_module_version": "1.5.0",
          "state": {
            "_model_module": "@jupyter-widgets/controls",
            "_model_module_version": "1.5.0",
            "_model_name": "ProgressStyleModel",
            "_view_count": null,
            "_view_module": "@jupyter-widgets/base",
            "_view_module_version": "1.2.0",
            "_view_name": "StyleView",
            "bar_color": null,
            "description_width": ""
          }
        },
        "a9c5ecff9fb5419e8156587b09a80a89": {
          "model_module": "@jupyter-widgets/base",
          "model_name": "LayoutModel",
          "model_module_version": "1.2.0",
          "state": {
            "_model_module": "@jupyter-widgets/base",
            "_model_module_version": "1.2.0",
            "_model_name": "LayoutModel",
            "_view_count": null,
            "_view_module": "@jupyter-widgets/base",
            "_view_module_version": "1.2.0",
            "_view_name": "LayoutView",
            "align_content": null,
            "align_items": null,
            "align_self": null,
            "border": null,
            "bottom": null,
            "display": null,
            "flex": null,
            "flex_flow": null,
            "grid_area": null,
            "grid_auto_columns": null,
            "grid_auto_flow": null,
            "grid_auto_rows": null,
            "grid_column": null,
            "grid_gap": null,
            "grid_row": null,
            "grid_template_areas": null,
            "grid_template_columns": null,
            "grid_template_rows": null,
            "height": null,
            "justify_content": null,
            "justify_items": null,
            "left": null,
            "margin": null,
            "max_height": null,
            "max_width": null,
            "min_height": null,
            "min_width": null,
            "object_fit": null,
            "object_position": null,
            "order": null,
            "overflow": null,
            "overflow_x": null,
            "overflow_y": null,
            "padding": null,
            "right": null,
            "top": null,
            "visibility": null,
            "width": null
          }
        },
        "763f2a668c274fc0b15495cfd5084c32": {
          "model_module": "@jupyter-widgets/controls",
          "model_name": "DescriptionStyleModel",
          "model_module_version": "1.5.0",
          "state": {
            "_model_module": "@jupyter-widgets/controls",
            "_model_module_version": "1.5.0",
            "_model_name": "DescriptionStyleModel",
            "_view_count": null,
            "_view_module": "@jupyter-widgets/base",
            "_view_module_version": "1.2.0",
            "_view_name": "StyleView",
            "description_width": ""
          }
        },
        "4f058c51b3a34abdadb0c0faf4e6ec2d": {
          "model_module": "@jupyter-widgets/controls",
          "model_name": "HBoxModel",
          "model_module_version": "1.5.0",
          "state": {
            "_dom_classes": [],
            "_model_module": "@jupyter-widgets/controls",
            "_model_module_version": "1.5.0",
            "_model_name": "HBoxModel",
            "_view_count": null,
            "_view_module": "@jupyter-widgets/controls",
            "_view_module_version": "1.5.0",
            "_view_name": "HBoxView",
            "box_style": "",
            "children": [
              "IPY_MODEL_3d2baa2b12cb4763aefcd8d447ffa742",
              "IPY_MODEL_766196a98ae24c96b051bea54a1e2d99",
              "IPY_MODEL_d18f424788fe490abdb501a2a281e79e"
            ],
            "layout": "IPY_MODEL_809a8f4be49e4281a2e8092dc0ffdb69"
          }
        },
        "3d2baa2b12cb4763aefcd8d447ffa742": {
          "model_module": "@jupyter-widgets/controls",
          "model_name": "HTMLModel",
          "model_module_version": "1.5.0",
          "state": {
            "_dom_classes": [],
            "_model_module": "@jupyter-widgets/controls",
            "_model_module_version": "1.5.0",
            "_model_name": "HTMLModel",
            "_view_count": null,
            "_view_module": "@jupyter-widgets/controls",
            "_view_module_version": "1.5.0",
            "_view_name": "HTMLView",
            "description": "",
            "description_tooltip": null,
            "layout": "IPY_MODEL_c830b067bf5743099201953c513e6627",
            "placeholder": "​",
            "style": "IPY_MODEL_ce8d3c300b814cb2b42533697cc76036",
            "value": "Downloading (…)okenizer_config.json: 100%"
          }
        },
        "766196a98ae24c96b051bea54a1e2d99": {
          "model_module": "@jupyter-widgets/controls",
          "model_name": "FloatProgressModel",
          "model_module_version": "1.5.0",
          "state": {
            "_dom_classes": [],
            "_model_module": "@jupyter-widgets/controls",
            "_model_module_version": "1.5.0",
            "_model_name": "FloatProgressModel",
            "_view_count": null,
            "_view_module": "@jupyter-widgets/controls",
            "_view_module_version": "1.5.0",
            "_view_name": "ProgressView",
            "bar_style": "success",
            "description": "",
            "description_tooltip": null,
            "layout": "IPY_MODEL_e9c5e28d516d4e3b8a8e19ead921b491",
            "max": 51,
            "min": 0,
            "orientation": "horizontal",
            "style": "IPY_MODEL_95aa5a6ad574459db0465eaf31597324",
            "value": 51
          }
        },
        "d18f424788fe490abdb501a2a281e79e": {
          "model_module": "@jupyter-widgets/controls",
          "model_name": "HTMLModel",
          "model_module_version": "1.5.0",
          "state": {
            "_dom_classes": [],
            "_model_module": "@jupyter-widgets/controls",
            "_model_module_version": "1.5.0",
            "_model_name": "HTMLModel",
            "_view_count": null,
            "_view_module": "@jupyter-widgets/controls",
            "_view_module_version": "1.5.0",
            "_view_name": "HTMLView",
            "description": "",
            "description_tooltip": null,
            "layout": "IPY_MODEL_9c905b86905f4f4a9cb60618b1736ffc",
            "placeholder": "​",
            "style": "IPY_MODEL_98ddc5c4f1314b09ab3a2d6ce39b6e4f",
            "value": " 51.0/51.0 [00:00&lt;00:00, 1.95kB/s]"
          }
        },
        "809a8f4be49e4281a2e8092dc0ffdb69": {
          "model_module": "@jupyter-widgets/base",
          "model_name": "LayoutModel",
          "model_module_version": "1.2.0",
          "state": {
            "_model_module": "@jupyter-widgets/base",
            "_model_module_version": "1.2.0",
            "_model_name": "LayoutModel",
            "_view_count": null,
            "_view_module": "@jupyter-widgets/base",
            "_view_module_version": "1.2.0",
            "_view_name": "LayoutView",
            "align_content": null,
            "align_items": null,
            "align_self": null,
            "border": null,
            "bottom": null,
            "display": null,
            "flex": null,
            "flex_flow": null,
            "grid_area": null,
            "grid_auto_columns": null,
            "grid_auto_flow": null,
            "grid_auto_rows": null,
            "grid_column": null,
            "grid_gap": null,
            "grid_row": null,
            "grid_template_areas": null,
            "grid_template_columns": null,
            "grid_template_rows": null,
            "height": null,
            "justify_content": null,
            "justify_items": null,
            "left": null,
            "margin": null,
            "max_height": null,
            "max_width": null,
            "min_height": null,
            "min_width": null,
            "object_fit": null,
            "object_position": null,
            "order": null,
            "overflow": null,
            "overflow_x": null,
            "overflow_y": null,
            "padding": null,
            "right": null,
            "top": null,
            "visibility": null,
            "width": null
          }
        },
        "c830b067bf5743099201953c513e6627": {
          "model_module": "@jupyter-widgets/base",
          "model_name": "LayoutModel",
          "model_module_version": "1.2.0",
          "state": {
            "_model_module": "@jupyter-widgets/base",
            "_model_module_version": "1.2.0",
            "_model_name": "LayoutModel",
            "_view_count": null,
            "_view_module": "@jupyter-widgets/base",
            "_view_module_version": "1.2.0",
            "_view_name": "LayoutView",
            "align_content": null,
            "align_items": null,
            "align_self": null,
            "border": null,
            "bottom": null,
            "display": null,
            "flex": null,
            "flex_flow": null,
            "grid_area": null,
            "grid_auto_columns": null,
            "grid_auto_flow": null,
            "grid_auto_rows": null,
            "grid_column": null,
            "grid_gap": null,
            "grid_row": null,
            "grid_template_areas": null,
            "grid_template_columns": null,
            "grid_template_rows": null,
            "height": null,
            "justify_content": null,
            "justify_items": null,
            "left": null,
            "margin": null,
            "max_height": null,
            "max_width": null,
            "min_height": null,
            "min_width": null,
            "object_fit": null,
            "object_position": null,
            "order": null,
            "overflow": null,
            "overflow_x": null,
            "overflow_y": null,
            "padding": null,
            "right": null,
            "top": null,
            "visibility": null,
            "width": null
          }
        },
        "ce8d3c300b814cb2b42533697cc76036": {
          "model_module": "@jupyter-widgets/controls",
          "model_name": "DescriptionStyleModel",
          "model_module_version": "1.5.0",
          "state": {
            "_model_module": "@jupyter-widgets/controls",
            "_model_module_version": "1.5.0",
            "_model_name": "DescriptionStyleModel",
            "_view_count": null,
            "_view_module": "@jupyter-widgets/base",
            "_view_module_version": "1.2.0",
            "_view_name": "StyleView",
            "description_width": ""
          }
        },
        "e9c5e28d516d4e3b8a8e19ead921b491": {
          "model_module": "@jupyter-widgets/base",
          "model_name": "LayoutModel",
          "model_module_version": "1.2.0",
          "state": {
            "_model_module": "@jupyter-widgets/base",
            "_model_module_version": "1.2.0",
            "_model_name": "LayoutModel",
            "_view_count": null,
            "_view_module": "@jupyter-widgets/base",
            "_view_module_version": "1.2.0",
            "_view_name": "LayoutView",
            "align_content": null,
            "align_items": null,
            "align_self": null,
            "border": null,
            "bottom": null,
            "display": null,
            "flex": null,
            "flex_flow": null,
            "grid_area": null,
            "grid_auto_columns": null,
            "grid_auto_flow": null,
            "grid_auto_rows": null,
            "grid_column": null,
            "grid_gap": null,
            "grid_row": null,
            "grid_template_areas": null,
            "grid_template_columns": null,
            "grid_template_rows": null,
            "height": null,
            "justify_content": null,
            "justify_items": null,
            "left": null,
            "margin": null,
            "max_height": null,
            "max_width": null,
            "min_height": null,
            "min_width": null,
            "object_fit": null,
            "object_position": null,
            "order": null,
            "overflow": null,
            "overflow_x": null,
            "overflow_y": null,
            "padding": null,
            "right": null,
            "top": null,
            "visibility": null,
            "width": null
          }
        },
        "95aa5a6ad574459db0465eaf31597324": {
          "model_module": "@jupyter-widgets/controls",
          "model_name": "ProgressStyleModel",
          "model_module_version": "1.5.0",
          "state": {
            "_model_module": "@jupyter-widgets/controls",
            "_model_module_version": "1.5.0",
            "_model_name": "ProgressStyleModel",
            "_view_count": null,
            "_view_module": "@jupyter-widgets/base",
            "_view_module_version": "1.2.0",
            "_view_name": "StyleView",
            "bar_color": null,
            "description_width": ""
          }
        },
        "9c905b86905f4f4a9cb60618b1736ffc": {
          "model_module": "@jupyter-widgets/base",
          "model_name": "LayoutModel",
          "model_module_version": "1.2.0",
          "state": {
            "_model_module": "@jupyter-widgets/base",
            "_model_module_version": "1.2.0",
            "_model_name": "LayoutModel",
            "_view_count": null,
            "_view_module": "@jupyter-widgets/base",
            "_view_module_version": "1.2.0",
            "_view_name": "LayoutView",
            "align_content": null,
            "align_items": null,
            "align_self": null,
            "border": null,
            "bottom": null,
            "display": null,
            "flex": null,
            "flex_flow": null,
            "grid_area": null,
            "grid_auto_columns": null,
            "grid_auto_flow": null,
            "grid_auto_rows": null,
            "grid_column": null,
            "grid_gap": null,
            "grid_row": null,
            "grid_template_areas": null,
            "grid_template_columns": null,
            "grid_template_rows": null,
            "height": null,
            "justify_content": null,
            "justify_items": null,
            "left": null,
            "margin": null,
            "max_height": null,
            "max_width": null,
            "min_height": null,
            "min_width": null,
            "object_fit": null,
            "object_position": null,
            "order": null,
            "overflow": null,
            "overflow_x": null,
            "overflow_y": null,
            "padding": null,
            "right": null,
            "top": null,
            "visibility": null,
            "width": null
          }
        },
        "98ddc5c4f1314b09ab3a2d6ce39b6e4f": {
          "model_module": "@jupyter-widgets/controls",
          "model_name": "DescriptionStyleModel",
          "model_module_version": "1.5.0",
          "state": {
            "_model_module": "@jupyter-widgets/controls",
            "_model_module_version": "1.5.0",
            "_model_name": "DescriptionStyleModel",
            "_view_count": null,
            "_view_module": "@jupyter-widgets/base",
            "_view_module_version": "1.2.0",
            "_view_name": "StyleView",
            "description_width": ""
          }
        },
        "854fa0bd18954ff881cfd31f53b581f8": {
          "model_module": "@jupyter-widgets/controls",
          "model_name": "HBoxModel",
          "model_module_version": "1.5.0",
          "state": {
            "_dom_classes": [],
            "_model_module": "@jupyter-widgets/controls",
            "_model_module_version": "1.5.0",
            "_model_name": "HBoxModel",
            "_view_count": null,
            "_view_module": "@jupyter-widgets/controls",
            "_view_module_version": "1.5.0",
            "_view_name": "HBoxView",
            "box_style": "",
            "children": [
              "IPY_MODEL_7033002667b340d7a907f816864375fb",
              "IPY_MODEL_7acec4d97e694511882adaba4dd8e969",
              "IPY_MODEL_470f10d029894cdabd0759e11ed4af3a"
            ],
            "layout": "IPY_MODEL_c38ce5b9c286474381fbc41d1321d42d"
          }
        },
        "7033002667b340d7a907f816864375fb": {
          "model_module": "@jupyter-widgets/controls",
          "model_name": "HTMLModel",
          "model_module_version": "1.5.0",
          "state": {
            "_dom_classes": [],
            "_model_module": "@jupyter-widgets/controls",
            "_model_module_version": "1.5.0",
            "_model_name": "HTMLModel",
            "_view_count": null,
            "_view_module": "@jupyter-widgets/controls",
            "_view_module_version": "1.5.0",
            "_view_name": "HTMLView",
            "description": "",
            "description_tooltip": null,
            "layout": "IPY_MODEL_0e0b056945834333bd5444ef08aca179",
            "placeholder": "​",
            "style": "IPY_MODEL_8bae118904f945f4aadaf66648dcffd1",
            "value": "Downloading (…)lve/main/config.json: 100%"
          }
        },
        "7acec4d97e694511882adaba4dd8e969": {
          "model_module": "@jupyter-widgets/controls",
          "model_name": "FloatProgressModel",
          "model_module_version": "1.5.0",
          "state": {
            "_dom_classes": [],
            "_model_module": "@jupyter-widgets/controls",
            "_model_module_version": "1.5.0",
            "_model_name": "FloatProgressModel",
            "_view_count": null,
            "_view_module": "@jupyter-widgets/controls",
            "_view_module_version": "1.5.0",
            "_view_name": "ProgressView",
            "bar_style": "success",
            "description": "",
            "description_tooltip": null,
            "layout": "IPY_MODEL_f7c47b9d0328424eb4d6414b23976e43",
            "max": 426,
            "min": 0,
            "orientation": "horizontal",
            "style": "IPY_MODEL_75f3da1b3e8c49d5818e705884850b13",
            "value": 426
          }
        },
        "470f10d029894cdabd0759e11ed4af3a": {
          "model_module": "@jupyter-widgets/controls",
          "model_name": "HTMLModel",
          "model_module_version": "1.5.0",
          "state": {
            "_dom_classes": [],
            "_model_module": "@jupyter-widgets/controls",
            "_model_module_version": "1.5.0",
            "_model_name": "HTMLModel",
            "_view_count": null,
            "_view_module": "@jupyter-widgets/controls",
            "_view_module_version": "1.5.0",
            "_view_name": "HTMLView",
            "description": "",
            "description_tooltip": null,
            "layout": "IPY_MODEL_daa7624a79d6435293b907de1f19891f",
            "placeholder": "​",
            "style": "IPY_MODEL_197ed6707cd54d89ac52724a7fa1f3de",
            "value": " 426/426 [00:00&lt;00:00, 7.57kB/s]"
          }
        },
        "c38ce5b9c286474381fbc41d1321d42d": {
          "model_module": "@jupyter-widgets/base",
          "model_name": "LayoutModel",
          "model_module_version": "1.2.0",
          "state": {
            "_model_module": "@jupyter-widgets/base",
            "_model_module_version": "1.2.0",
            "_model_name": "LayoutModel",
            "_view_count": null,
            "_view_module": "@jupyter-widgets/base",
            "_view_module_version": "1.2.0",
            "_view_name": "LayoutView",
            "align_content": null,
            "align_items": null,
            "align_self": null,
            "border": null,
            "bottom": null,
            "display": null,
            "flex": null,
            "flex_flow": null,
            "grid_area": null,
            "grid_auto_columns": null,
            "grid_auto_flow": null,
            "grid_auto_rows": null,
            "grid_column": null,
            "grid_gap": null,
            "grid_row": null,
            "grid_template_areas": null,
            "grid_template_columns": null,
            "grid_template_rows": null,
            "height": null,
            "justify_content": null,
            "justify_items": null,
            "left": null,
            "margin": null,
            "max_height": null,
            "max_width": null,
            "min_height": null,
            "min_width": null,
            "object_fit": null,
            "object_position": null,
            "order": null,
            "overflow": null,
            "overflow_x": null,
            "overflow_y": null,
            "padding": null,
            "right": null,
            "top": null,
            "visibility": null,
            "width": null
          }
        },
        "0e0b056945834333bd5444ef08aca179": {
          "model_module": "@jupyter-widgets/base",
          "model_name": "LayoutModel",
          "model_module_version": "1.2.0",
          "state": {
            "_model_module": "@jupyter-widgets/base",
            "_model_module_version": "1.2.0",
            "_model_name": "LayoutModel",
            "_view_count": null,
            "_view_module": "@jupyter-widgets/base",
            "_view_module_version": "1.2.0",
            "_view_name": "LayoutView",
            "align_content": null,
            "align_items": null,
            "align_self": null,
            "border": null,
            "bottom": null,
            "display": null,
            "flex": null,
            "flex_flow": null,
            "grid_area": null,
            "grid_auto_columns": null,
            "grid_auto_flow": null,
            "grid_auto_rows": null,
            "grid_column": null,
            "grid_gap": null,
            "grid_row": null,
            "grid_template_areas": null,
            "grid_template_columns": null,
            "grid_template_rows": null,
            "height": null,
            "justify_content": null,
            "justify_items": null,
            "left": null,
            "margin": null,
            "max_height": null,
            "max_width": null,
            "min_height": null,
            "min_width": null,
            "object_fit": null,
            "object_position": null,
            "order": null,
            "overflow": null,
            "overflow_x": null,
            "overflow_y": null,
            "padding": null,
            "right": null,
            "top": null,
            "visibility": null,
            "width": null
          }
        },
        "8bae118904f945f4aadaf66648dcffd1": {
          "model_module": "@jupyter-widgets/controls",
          "model_name": "DescriptionStyleModel",
          "model_module_version": "1.5.0",
          "state": {
            "_model_module": "@jupyter-widgets/controls",
            "_model_module_version": "1.5.0",
            "_model_name": "DescriptionStyleModel",
            "_view_count": null,
            "_view_module": "@jupyter-widgets/base",
            "_view_module_version": "1.2.0",
            "_view_name": "StyleView",
            "description_width": ""
          }
        },
        "f7c47b9d0328424eb4d6414b23976e43": {
          "model_module": "@jupyter-widgets/base",
          "model_name": "LayoutModel",
          "model_module_version": "1.2.0",
          "state": {
            "_model_module": "@jupyter-widgets/base",
            "_model_module_version": "1.2.0",
            "_model_name": "LayoutModel",
            "_view_count": null,
            "_view_module": "@jupyter-widgets/base",
            "_view_module_version": "1.2.0",
            "_view_name": "LayoutView",
            "align_content": null,
            "align_items": null,
            "align_self": null,
            "border": null,
            "bottom": null,
            "display": null,
            "flex": null,
            "flex_flow": null,
            "grid_area": null,
            "grid_auto_columns": null,
            "grid_auto_flow": null,
            "grid_auto_rows": null,
            "grid_column": null,
            "grid_gap": null,
            "grid_row": null,
            "grid_template_areas": null,
            "grid_template_columns": null,
            "grid_template_rows": null,
            "height": null,
            "justify_content": null,
            "justify_items": null,
            "left": null,
            "margin": null,
            "max_height": null,
            "max_width": null,
            "min_height": null,
            "min_width": null,
            "object_fit": null,
            "object_position": null,
            "order": null,
            "overflow": null,
            "overflow_x": null,
            "overflow_y": null,
            "padding": null,
            "right": null,
            "top": null,
            "visibility": null,
            "width": null
          }
        },
        "75f3da1b3e8c49d5818e705884850b13": {
          "model_module": "@jupyter-widgets/controls",
          "model_name": "ProgressStyleModel",
          "model_module_version": "1.5.0",
          "state": {
            "_model_module": "@jupyter-widgets/controls",
            "_model_module_version": "1.5.0",
            "_model_name": "ProgressStyleModel",
            "_view_count": null,
            "_view_module": "@jupyter-widgets/base",
            "_view_module_version": "1.2.0",
            "_view_name": "StyleView",
            "bar_color": null,
            "description_width": ""
          }
        },
        "daa7624a79d6435293b907de1f19891f": {
          "model_module": "@jupyter-widgets/base",
          "model_name": "LayoutModel",
          "model_module_version": "1.2.0",
          "state": {
            "_model_module": "@jupyter-widgets/base",
            "_model_module_version": "1.2.0",
            "_model_name": "LayoutModel",
            "_view_count": null,
            "_view_module": "@jupyter-widgets/base",
            "_view_module_version": "1.2.0",
            "_view_name": "LayoutView",
            "align_content": null,
            "align_items": null,
            "align_self": null,
            "border": null,
            "bottom": null,
            "display": null,
            "flex": null,
            "flex_flow": null,
            "grid_area": null,
            "grid_auto_columns": null,
            "grid_auto_flow": null,
            "grid_auto_rows": null,
            "grid_column": null,
            "grid_gap": null,
            "grid_row": null,
            "grid_template_areas": null,
            "grid_template_columns": null,
            "grid_template_rows": null,
            "height": null,
            "justify_content": null,
            "justify_items": null,
            "left": null,
            "margin": null,
            "max_height": null,
            "max_width": null,
            "min_height": null,
            "min_width": null,
            "object_fit": null,
            "object_position": null,
            "order": null,
            "overflow": null,
            "overflow_x": null,
            "overflow_y": null,
            "padding": null,
            "right": null,
            "top": null,
            "visibility": null,
            "width": null
          }
        },
        "197ed6707cd54d89ac52724a7fa1f3de": {
          "model_module": "@jupyter-widgets/controls",
          "model_name": "DescriptionStyleModel",
          "model_module_version": "1.5.0",
          "state": {
            "_model_module": "@jupyter-widgets/controls",
            "_model_module_version": "1.5.0",
            "_model_name": "DescriptionStyleModel",
            "_view_count": null,
            "_view_module": "@jupyter-widgets/base",
            "_view_module_version": "1.2.0",
            "_view_name": "StyleView",
            "description_width": ""
          }
        },
        "696529dab2de418ca700c4b2a044aeba": {
          "model_module": "@jupyter-widgets/controls",
          "model_name": "HBoxModel",
          "model_module_version": "1.5.0",
          "state": {
            "_dom_classes": [],
            "_model_module": "@jupyter-widgets/controls",
            "_model_module_version": "1.5.0",
            "_model_name": "HBoxModel",
            "_view_count": null,
            "_view_module": "@jupyter-widgets/controls",
            "_view_module_version": "1.5.0",
            "_view_name": "HBoxView",
            "box_style": "",
            "children": [
              "IPY_MODEL_9160f56f6bc749098b43c196596686d9",
              "IPY_MODEL_2c822134dced426a9866cca766b23286",
              "IPY_MODEL_a5cb61a6dd504d8994d8d66bb27b7321"
            ],
            "layout": "IPY_MODEL_07185ef1af2c4c3cacb9371307cb9d05"
          }
        },
        "9160f56f6bc749098b43c196596686d9": {
          "model_module": "@jupyter-widgets/controls",
          "model_name": "HTMLModel",
          "model_module_version": "1.5.0",
          "state": {
            "_dom_classes": [],
            "_model_module": "@jupyter-widgets/controls",
            "_model_module_version": "1.5.0",
            "_model_name": "HTMLModel",
            "_view_count": null,
            "_view_module": "@jupyter-widgets/controls",
            "_view_module_version": "1.5.0",
            "_view_name": "HTMLView",
            "description": "",
            "description_tooltip": null,
            "layout": "IPY_MODEL_a7a77acf1982466f9e85557263ca9d89",
            "placeholder": "​",
            "style": "IPY_MODEL_25990000a0ef4bdb937ca9a0a016488b",
            "value": "Downloading pytorch_model.bin: 100%"
          }
        },
        "2c822134dced426a9866cca766b23286": {
          "model_module": "@jupyter-widgets/controls",
          "model_name": "FloatProgressModel",
          "model_module_version": "1.5.0",
          "state": {
            "_dom_classes": [],
            "_model_module": "@jupyter-widgets/controls",
            "_model_module_version": "1.5.0",
            "_model_name": "FloatProgressModel",
            "_view_count": null,
            "_view_module": "@jupyter-widgets/controls",
            "_view_module_version": "1.5.0",
            "_view_name": "ProgressView",
            "bar_style": "success",
            "description": "",
            "description_tooltip": null,
            "layout": "IPY_MODEL_88255261ff52430aa0767484ae5e35c6",
            "max": 368792146,
            "min": 0,
            "orientation": "horizontal",
            "style": "IPY_MODEL_751ccd9a193b41a2b73781be70ed540a",
            "value": 368792146
          }
        },
        "a5cb61a6dd504d8994d8d66bb27b7321": {
          "model_module": "@jupyter-widgets/controls",
          "model_name": "HTMLModel",
          "model_module_version": "1.5.0",
          "state": {
            "_dom_classes": [],
            "_model_module": "@jupyter-widgets/controls",
            "_model_module_version": "1.5.0",
            "_model_name": "HTMLModel",
            "_view_count": null,
            "_view_module": "@jupyter-widgets/controls",
            "_view_module_version": "1.5.0",
            "_view_name": "HTMLView",
            "description": "",
            "description_tooltip": null,
            "layout": "IPY_MODEL_b03fad67f16d4adca6389cc5c900a935",
            "placeholder": "​",
            "style": "IPY_MODEL_72d139ac37664e118e6e3199d6381483",
            "value": " 369M/369M [00:19&lt;00:00, 20.8MB/s]"
          }
        },
        "07185ef1af2c4c3cacb9371307cb9d05": {
          "model_module": "@jupyter-widgets/base",
          "model_name": "LayoutModel",
          "model_module_version": "1.2.0",
          "state": {
            "_model_module": "@jupyter-widgets/base",
            "_model_module_version": "1.2.0",
            "_model_name": "LayoutModel",
            "_view_count": null,
            "_view_module": "@jupyter-widgets/base",
            "_view_module_version": "1.2.0",
            "_view_name": "LayoutView",
            "align_content": null,
            "align_items": null,
            "align_self": null,
            "border": null,
            "bottom": null,
            "display": null,
            "flex": null,
            "flex_flow": null,
            "grid_area": null,
            "grid_auto_columns": null,
            "grid_auto_flow": null,
            "grid_auto_rows": null,
            "grid_column": null,
            "grid_gap": null,
            "grid_row": null,
            "grid_template_areas": null,
            "grid_template_columns": null,
            "grid_template_rows": null,
            "height": null,
            "justify_content": null,
            "justify_items": null,
            "left": null,
            "margin": null,
            "max_height": null,
            "max_width": null,
            "min_height": null,
            "min_width": null,
            "object_fit": null,
            "object_position": null,
            "order": null,
            "overflow": null,
            "overflow_x": null,
            "overflow_y": null,
            "padding": null,
            "right": null,
            "top": null,
            "visibility": null,
            "width": null
          }
        },
        "a7a77acf1982466f9e85557263ca9d89": {
          "model_module": "@jupyter-widgets/base",
          "model_name": "LayoutModel",
          "model_module_version": "1.2.0",
          "state": {
            "_model_module": "@jupyter-widgets/base",
            "_model_module_version": "1.2.0",
            "_model_name": "LayoutModel",
            "_view_count": null,
            "_view_module": "@jupyter-widgets/base",
            "_view_module_version": "1.2.0",
            "_view_name": "LayoutView",
            "align_content": null,
            "align_items": null,
            "align_self": null,
            "border": null,
            "bottom": null,
            "display": null,
            "flex": null,
            "flex_flow": null,
            "grid_area": null,
            "grid_auto_columns": null,
            "grid_auto_flow": null,
            "grid_auto_rows": null,
            "grid_column": null,
            "grid_gap": null,
            "grid_row": null,
            "grid_template_areas": null,
            "grid_template_columns": null,
            "grid_template_rows": null,
            "height": null,
            "justify_content": null,
            "justify_items": null,
            "left": null,
            "margin": null,
            "max_height": null,
            "max_width": null,
            "min_height": null,
            "min_width": null,
            "object_fit": null,
            "object_position": null,
            "order": null,
            "overflow": null,
            "overflow_x": null,
            "overflow_y": null,
            "padding": null,
            "right": null,
            "top": null,
            "visibility": null,
            "width": null
          }
        },
        "25990000a0ef4bdb937ca9a0a016488b": {
          "model_module": "@jupyter-widgets/controls",
          "model_name": "DescriptionStyleModel",
          "model_module_version": "1.5.0",
          "state": {
            "_model_module": "@jupyter-widgets/controls",
            "_model_module_version": "1.5.0",
            "_model_name": "DescriptionStyleModel",
            "_view_count": null,
            "_view_module": "@jupyter-widgets/base",
            "_view_module_version": "1.2.0",
            "_view_name": "StyleView",
            "description_width": ""
          }
        },
        "88255261ff52430aa0767484ae5e35c6": {
          "model_module": "@jupyter-widgets/base",
          "model_name": "LayoutModel",
          "model_module_version": "1.2.0",
          "state": {
            "_model_module": "@jupyter-widgets/base",
            "_model_module_version": "1.2.0",
            "_model_name": "LayoutModel",
            "_view_count": null,
            "_view_module": "@jupyter-widgets/base",
            "_view_module_version": "1.2.0",
            "_view_name": "LayoutView",
            "align_content": null,
            "align_items": null,
            "align_self": null,
            "border": null,
            "bottom": null,
            "display": null,
            "flex": null,
            "flex_flow": null,
            "grid_area": null,
            "grid_auto_columns": null,
            "grid_auto_flow": null,
            "grid_auto_rows": null,
            "grid_column": null,
            "grid_gap": null,
            "grid_row": null,
            "grid_template_areas": null,
            "grid_template_columns": null,
            "grid_template_rows": null,
            "height": null,
            "justify_content": null,
            "justify_items": null,
            "left": null,
            "margin": null,
            "max_height": null,
            "max_width": null,
            "min_height": null,
            "min_width": null,
            "object_fit": null,
            "object_position": null,
            "order": null,
            "overflow": null,
            "overflow_x": null,
            "overflow_y": null,
            "padding": null,
            "right": null,
            "top": null,
            "visibility": null,
            "width": null
          }
        },
        "751ccd9a193b41a2b73781be70ed540a": {
          "model_module": "@jupyter-widgets/controls",
          "model_name": "ProgressStyleModel",
          "model_module_version": "1.5.0",
          "state": {
            "_model_module": "@jupyter-widgets/controls",
            "_model_module_version": "1.5.0",
            "_model_name": "ProgressStyleModel",
            "_view_count": null,
            "_view_module": "@jupyter-widgets/base",
            "_view_module_version": "1.2.0",
            "_view_name": "StyleView",
            "bar_color": null,
            "description_width": ""
          }
        },
        "b03fad67f16d4adca6389cc5c900a935": {
          "model_module": "@jupyter-widgets/base",
          "model_name": "LayoutModel",
          "model_module_version": "1.2.0",
          "state": {
            "_model_module": "@jupyter-widgets/base",
            "_model_module_version": "1.2.0",
            "_model_name": "LayoutModel",
            "_view_count": null,
            "_view_module": "@jupyter-widgets/base",
            "_view_module_version": "1.2.0",
            "_view_name": "LayoutView",
            "align_content": null,
            "align_items": null,
            "align_self": null,
            "border": null,
            "bottom": null,
            "display": null,
            "flex": null,
            "flex_flow": null,
            "grid_area": null,
            "grid_auto_columns": null,
            "grid_auto_flow": null,
            "grid_auto_rows": null,
            "grid_column": null,
            "grid_gap": null,
            "grid_row": null,
            "grid_template_areas": null,
            "grid_template_columns": null,
            "grid_template_rows": null,
            "height": null,
            "justify_content": null,
            "justify_items": null,
            "left": null,
            "margin": null,
            "max_height": null,
            "max_width": null,
            "min_height": null,
            "min_width": null,
            "object_fit": null,
            "object_position": null,
            "order": null,
            "overflow": null,
            "overflow_x": null,
            "overflow_y": null,
            "padding": null,
            "right": null,
            "top": null,
            "visibility": null,
            "width": null
          }
        },
        "72d139ac37664e118e6e3199d6381483": {
          "model_module": "@jupyter-widgets/controls",
          "model_name": "DescriptionStyleModel",
          "model_module_version": "1.5.0",
          "state": {
            "_model_module": "@jupyter-widgets/controls",
            "_model_module_version": "1.5.0",
            "_model_name": "DescriptionStyleModel",
            "_view_count": null,
            "_view_module": "@jupyter-widgets/base",
            "_view_module_version": "1.2.0",
            "_view_name": "StyleView",
            "description_width": ""
          }
        }
      }
    },
    "gpuClass": "premium"
  },
  "cells": [
    {
      "cell_type": "markdown",
      "metadata": {
        "id": "view-in-github",
        "colab_type": "text"
      },
      "source": [
        "<a href=\"https://colab.research.google.com/github/BoyoungH/FrontEnd-Class/blob/main/2_(Hugging%2B%ED%95%9C%EA%B8%80BERT)%EB%84%A4%EC%9D%B4%EB%B2%84_%EA%B0%90%EC%84%B1%EB%B6%84%EC%84%9D_90_%EB%8B%AC%EC%84%B1%ED%95%98%EA%B8%B0.ipynb\" target=\"_parent\"><img src=\"https://colab.research.google.com/assets/colab-badge.svg\" alt=\"Open In Colab\"/></a>"
      ]
    },
    {
      "cell_type": "markdown",
      "source": [
        "# Huggingface로 BERT 빠르게 돌려보기 with 네이버 영화 평가 감성분석\n",
        "# Youtube 공무원AI\n"
      ],
      "metadata": {
        "id": "ghcujhcl_3aY"
      }
    },
    {
      "cell_type": "markdown",
      "metadata": {
        "id": "view-in-github"
      },
      "source": [
        "<a href=\"https://colab.research.google.com/github/kimwoonggon/publicservant_AI/blob/master/2_%ED%95%9C%EA%B8%80BERT%2BHuggingFace%20%EB%84%A4%EC%9D%B4%EB%B2%84%20%EA%B0%90%EC%84%B1%EB%B6%84%EC%84%9D%2090%25%20%EB%8B%AC%EC%84%B1%ED%95%98%EA%B8%B0.ipynb\" target=\"_parent\"><img src=\"https://colab.research.google.com/assets/colab-badge.svg\" alt=\"Open In Colab\"/></a>"
      ]
    },
    {
      "cell_type": "markdown",
      "source": [
        "**1. 버트 모형 소개**\n",
        "\n",
        "버트 모형은 2018년 11월 구글이 공개한 인공지능(AI) 언어 모델로써 기존 자연어 모델의 성능을 가볍게 뛰어넘었으며, 일부 성능 평가에서는 인간보다 더 높은 성능을 기록한 모델입니다. BERT는 Bidirectional Encoder Representations from Transformers의 약자로 18년 10월 구글에 의해 논문이 공개되었습니다.\n",
        "버트 모형의 특징은 사전학습, 문맥학습, 파인튜닝을 들 수 있습니다.\n",
        "\n",
        "(사전학습) 위키피디아 같은 아주 큰 데이터들을 사용하여 '언어 이해' 모델을 사전학습(Pre-training)한다. 광범위한 데이터로 인간이 살아오면서 체득한 지식과 같이 다양한 데이터를 학습하게 됩니다.\n",
        "(문맥학습1) 문장 순서를 학습하여 다음에 나온 문장이 순서에 맞는 문장인지 학습합니다.\n",
        "\n",
        "  => 문장1: 저 남자는 회사에 출근했다\n",
        "  => 문장2: 회사에 출근하자마자 저 남자는 커피를 끓여 마셨다. (순서가 맞음)\n",
        "\n",
        "  => 문장3: 저 여자는 퇴근하려 한다.\n",
        "  => 문장4: 강아지는 예쁘다. (순서가 틀린 문장)\n",
        "\n",
        "(문맥학습2) 양방향으로 학습하여 가려진 단어를 맞춘다.\n",
        "    문장 : 저 남자는 (①)에 출근했다. 회사에 출근하자마자 저 남자는 (②)를 마셨다.\n",
        "  => ① : 회사 ② : 커피\n",
        "\n",
        "(파인튜닝) 이미 사람처럼 광범위한 글을 학습한 인공지능을 기반으로 하여 새로운 과제를 해결하게 됩니다. 이미 기반 지식이 있기 때문에 새로운 것을 쉽고 빠르게 학습할 수 있습니다.\n",
        "본 실습에서는 네이버 영화 평가 댓글로 긍정 부정인지를 예측하는 버트 모형을 생성해 보겠습니다.\n",
        "\n",
        "**2. 버트라는 도구를 활용하여 네이버 영화 평가 댓글 긍정 부정 예측하기**\n",
        "\n",
        "버트라는 모형에 영화를 평가하는 댓글을 인풋으로 넣으면 평가가 긍정인지 부정인지를 예측하게 됩니다. 긍정에 가까우면 1을, 부정에 가까우면 0을 출력하게 됩니다.\n",
        "함수로 표현하면 버트 모형 함수 function(영화댓글) = 1 or 0입니다.\n",
        "그림으로 살펴보도록 하겠습니다.\n",
        "\n",
        "![68747470733a2f2f692e696d6775722e636f6d2f596d64417162542e706e67.png](data:image/png;base64,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)\n",
        "\n",
        "네이버 영화 감성분석을 위해 파일을 불러왔습니다. 긍정은 1, 부정은 0으로 라벨링 되어 있습니다. 이 데이터를 활용하여 댓글을 인풋으로 넣으면 긍정인지 부정인지 예측하는 값을 예측하는 인공지능 모형을 생성합니다.\n",
        "본 실습에서는 광범위한 데이터로 사전 훈련된 인공지능 모형을 네이버 영화 감성 분석 데이터로 파인튜닝(추가학습)하여 아래 그림과 같은 긍정 부정을 예측하는 모형을 만들고자 합니다.\n",
        "\n",
        "![68747470733a2f2f692e696d6775722e636f6d2f7a4e58566233472e706e67.png](data:image/png;base64,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)\n",
        "\n",
        "\n",
        "- NSMC는 Naver의 영화 리뷰를 기반으로 구축된 웹 텍스트 기반 감성 분석 텍스트입니다\n",
        "- 여기서는 🤗 Model Hub에서 일반적인 한국어 텍스트로 구축된 BERT 모델과, 댓글로 구축한 BERT 모델을 각각 불러와 Fine-Tuning하여 결과를 비교해 봅니다\n",
        "- 📔NOTE: 빠른 실행을 위해 Runtime 유형을 'GPU'로 해 주세요"
      ],
      "metadata": {
        "id": "z_h_xGCeR1Jd"
      }
    },
    {
      "cell_type": "markdown",
      "metadata": {
        "id": "-g3VM2jeodCs"
      },
      "source": [
        "## 3 HuggingFace 소개\n",
        "![대체 텍스트](https://i.imgur.com/6DM516z.png)  \n",
        "![대체 텍스트](https://i.imgur.com/g6R67h4.png)    \n",
        "https://huggingface.co/transformers/\n",
        "\n",
        "HuggingFace는 자연어 처리 인공지능 모델에서, BERT 모델 같은 트랜스포머 모델들을 쉽게 다룰 수 있게 해주는 패키지입니다.  \n",
        "기본적으로 pytorch 기반으로 만들어져 있지만, 텐서플로우 2.0에서도 본 패키지를 사용 가능합니다.  \n",
        "텐서플로우 2.0은 기존 케라스를 포함하고 있기 때문에, 기존 텐서플로우나 케라스에 익숙하신 분들이 쉽게 사용할 수 있습니다.  \n",
        "텐서플로우 2.0 기반의 huggingface 사용 방법을 네이버 영화 긍부정 분석을 실습하면서 배워 보도록 하겠습니다.  \n",
        "또한 이번에는 구글의 Multilingual BERT 보다는 한글로 학습된 KOBERT를 활용하여 네이버 감성분석을 해보도록 하겠습니다."
      ]
    },
    {
      "cell_type": "markdown",
      "metadata": {
        "id": "bqNnCd3mwHvC"
      },
      "source": [
        "#목차\n",
        "이번 실습은 <b>1) 네이버 감성분석 데이터 불러오기 및 전처리 2) BERT 인풋 만들기 3) 버트를 활용한 감성분석 모델 만들기 4) 훈련 및 성능 검증 5) 실제 데이터로 실습하기</b>로 구성되어 있습니다."
      ]
    },
    {
      "cell_type": "markdown",
      "metadata": {
        "id": "gTJEnozuwQpl"
      },
      "source": [
        "# 한글 BERT(KOBERT)를 활용하여 네이버 감성분석 만들기"
      ]
    },
    {
      "cell_type": "markdown",
      "metadata": {
        "id": "ZO3MDrbfpfxV"
      },
      "source": [
        "huggingface 패키지를 Colab에 설치합니다"
      ]
    },
    {
      "cell_type": "code",
      "metadata": {
        "id": "8AB7YtQ3rZzF",
        "colab": {
          "base_uri": "https://localhost:8080/"
        },
        "outputId": "d08017b5-cdaa-4853-fafb-3189e64befa7"
      },
      "source": [
        "!pip install transformers"
      ],
      "execution_count": null,
      "outputs": [
        {
          "output_type": "stream",
          "name": "stdout",
          "text": [
            "Requirement already satisfied: transformers in /usr/local/lib/python3.10/dist-packages (4.31.0)\n",
            "Requirement already satisfied: filelock in /usr/local/lib/python3.10/dist-packages (from transformers) (3.12.2)\n",
            "Requirement already satisfied: huggingface-hub<1.0,>=0.14.1 in /usr/local/lib/python3.10/dist-packages (from transformers) (0.16.4)\n",
            "Requirement already satisfied: numpy>=1.17 in /usr/local/lib/python3.10/dist-packages (from transformers) (1.23.5)\n",
            "Requirement already satisfied: packaging>=20.0 in /usr/local/lib/python3.10/dist-packages (from transformers) (23.1)\n",
            "Requirement already satisfied: pyyaml>=5.1 in /usr/local/lib/python3.10/dist-packages (from transformers) (6.0.1)\n",
            "Requirement already satisfied: regex!=2019.12.17 in /usr/local/lib/python3.10/dist-packages (from transformers) (2023.6.3)\n",
            "Requirement already satisfied: requests in /usr/local/lib/python3.10/dist-packages (from transformers) (2.31.0)\n",
            "Requirement already satisfied: tokenizers!=0.11.3,<0.14,>=0.11.1 in /usr/local/lib/python3.10/dist-packages (from transformers) (0.13.3)\n",
            "Requirement already satisfied: safetensors>=0.3.1 in /usr/local/lib/python3.10/dist-packages (from transformers) (0.3.2)\n",
            "Requirement already satisfied: tqdm>=4.27 in /usr/local/lib/python3.10/dist-packages (from transformers) (4.66.1)\n",
            "Requirement already satisfied: fsspec in /usr/local/lib/python3.10/dist-packages (from huggingface-hub<1.0,>=0.14.1->transformers) (2023.6.0)\n",
            "Requirement already satisfied: typing-extensions>=3.7.4.3 in /usr/local/lib/python3.10/dist-packages (from huggingface-hub<1.0,>=0.14.1->transformers) (4.7.1)\n",
            "Requirement already satisfied: charset-normalizer<4,>=2 in /usr/local/lib/python3.10/dist-packages (from requests->transformers) (3.2.0)\n",
            "Requirement already satisfied: idna<4,>=2.5 in /usr/local/lib/python3.10/dist-packages (from requests->transformers) (3.4)\n",
            "Requirement already satisfied: urllib3<3,>=1.21.1 in /usr/local/lib/python3.10/dist-packages (from requests->transformers) (2.0.4)\n",
            "Requirement already satisfied: certifi>=2017.4.17 in /usr/local/lib/python3.10/dist-packages (from requests->transformers) (2023.7.22)\n"
          ]
        }
      ]
    },
    {
      "cell_type": "code",
      "metadata": {
        "id": "UoENjVEcchSP",
        "outputId": "8e2ffc99-8d18-463a-aad1-6bc8edcd507e",
        "colab": {
          "base_uri": "https://localhost:8080/"
        }
      },
      "source": [
        "!nvidia-smi\n",
        "!pip install sentencepiece"
      ],
      "execution_count": null,
      "outputs": [
        {
          "output_type": "stream",
          "name": "stdout",
          "text": [
            "Tue Aug 22 02:26:37 2023       \n",
            "+-----------------------------------------------------------------------------+\n",
            "| NVIDIA-SMI 525.105.17   Driver Version: 525.105.17   CUDA Version: 12.0     |\n",
            "|-------------------------------+----------------------+----------------------+\n",
            "| GPU  Name        Persistence-M| Bus-Id        Disp.A | Volatile Uncorr. ECC |\n",
            "| Fan  Temp  Perf  Pwr:Usage/Cap|         Memory-Usage | GPU-Util  Compute M. |\n",
            "|                               |                      |               MIG M. |\n",
            "|===============================+======================+======================|\n",
            "|   0  Tesla V100-SXM2...  Off  | 00000000:00:04.0 Off |                    0 |\n",
            "| N/A   36C    P0    24W / 300W |      0MiB / 16384MiB |      0%      Default |\n",
            "|                               |                      |                  N/A |\n",
            "+-------------------------------+----------------------+----------------------+\n",
            "                                                                               \n",
            "+-----------------------------------------------------------------------------+\n",
            "| Processes:                                                                  |\n",
            "|  GPU   GI   CI        PID   Type   Process name                  GPU Memory |\n",
            "|        ID   ID                                                   Usage      |\n",
            "|=============================================================================|\n",
            "|  No running processes found                                                 |\n",
            "+-----------------------------------------------------------------------------+\n",
            "Requirement already satisfied: sentencepiece in /usr/local/lib/python3.10/dist-packages (0.1.99)\n"
          ]
        }
      ]
    },
    {
      "cell_type": "markdown",
      "metadata": {
        "id": "Pdvo-EpaqFev"
      },
      "source": [
        "텐서플로우 2와 필요한 모듈들을 임포트합니다.  \n",
        "최근에 텐서플로우 기본 버전은 2로 바뀌었습니다."
      ]
    },
    {
      "cell_type": "code",
      "source": [
        "import jax\n",
        "print(\"JAX Version:\", jax.__version__)\n",
        "\n",
        "import transformers\n",
        "print(\"Transformers Version:\", transformers.__version__)\n"
      ],
      "metadata": {
        "colab": {
          "base_uri": "https://localhost:8080/"
        },
        "id": "bZ4v4hpVDo1b",
        "outputId": "97ac9de5-4804-45a2-ec98-99a086b52c6a"
      },
      "execution_count": null,
      "outputs": [
        {
          "output_type": "stream",
          "name": "stdout",
          "text": [
            "JAX Version: 0.4.13\n",
            "Transformers Version: 4.31.0\n"
          ]
        }
      ]
    },
    {
      "cell_type": "code",
      "source": [
        "!pip install jax==0.4.13\n",
        "!pip install jaxlib==0.4.13\n",
        "#!pip install transformer"
      ],
      "metadata": {
        "colab": {
          "base_uri": "https://localhost:8080/"
        },
        "id": "sHdMowL6D8s4",
        "outputId": "234b137f-1522-49f2-adef-d5878c3e1043"
      },
      "execution_count": null,
      "outputs": [
        {
          "output_type": "stream",
          "name": "stdout",
          "text": [
            "Requirement already satisfied: jax==0.4.13 in /usr/local/lib/python3.10/dist-packages (0.4.13)\n",
            "Requirement already satisfied: ml-dtypes>=0.1.0 in /usr/local/lib/python3.10/dist-packages (from jax==0.4.13) (0.2.0)\n",
            "Requirement already satisfied: numpy>=1.21 in /usr/local/lib/python3.10/dist-packages (from jax==0.4.13) (1.23.5)\n",
            "Requirement already satisfied: opt-einsum in /usr/local/lib/python3.10/dist-packages (from jax==0.4.13) (3.3.0)\n",
            "Requirement already satisfied: scipy>=1.7 in /usr/local/lib/python3.10/dist-packages (from jax==0.4.13) (1.10.1)\n",
            "Requirement already satisfied: jaxlib==0.4.13 in /usr/local/lib/python3.10/dist-packages (0.4.13)\n",
            "Requirement already satisfied: scipy>=1.7 in /usr/local/lib/python3.10/dist-packages (from jaxlib==0.4.13) (1.10.1)\n",
            "Requirement already satisfied: numpy>=1.21 in /usr/local/lib/python3.10/dist-packages (from jaxlib==0.4.13) (1.23.5)\n",
            "Requirement already satisfied: ml-dtypes>=0.1.0 in /usr/local/lib/python3.10/dist-packages (from jaxlib==0.4.13) (0.2.0)\n"
          ]
        }
      ]
    },
    {
      "cell_type": "code",
      "metadata": {
        "id": "jRXvtgWrrdk5",
        "colab": {
          "base_uri": "https://localhost:8080/"
        },
        "outputId": "4ab91e1b-0f2e-438b-ab16-cc05beb9d21d"
      },
      "source": [
        "import tensorflow as tf\n",
        "import numpy as np\n",
        "import pandas as pd\n",
        "from transformers import *\n",
        "import json\n",
        "import numpy as np\n",
        "import pandas as pd\n",
        "from tqdm import tqdm\n",
        "import os\n",
        "import sentencepiece as spm"
      ],
      "execution_count": null,
      "outputs": [
        {
          "output_type": "stream",
          "name": "stderr",
          "text": [
            "WARNING:jax._src.xla_bridge:No GPU/TPU found, falling back to CPU. (Set TF_CPP_MIN_LOG_LEVEL=0 and rerun for more info.)\n",
            "/usr/local/lib/python3.10/dist-packages/transformers/generation_utils.py:24: FutureWarning: Importing `GenerationMixin` from `src/transformers/generation_utils.py` is deprecated and will be removed in Transformers v5. Import as `from transformers import GenerationMixin` instead.\n",
            "  warnings.warn(\n",
            "/usr/local/lib/python3.10/dist-packages/transformers/generation_tf_utils.py:24: FutureWarning: Importing `TFGenerationMixin` from `src/transformers/generation_tf_utils.py` is deprecated and will be removed in Transformers v5. Import as `from transformers import TFGenerationMixin` instead.\n",
            "  warnings.warn(\n",
            "/usr/local/lib/python3.10/dist-packages/transformers/generation_flax_utils.py:24: FutureWarning: Importing `FlaxGenerationMixin` from `src/transformers/generation_flax_utils.py` is deprecated and will be removed in Transformers v5. Import as `from transformers import FlaxGenerationMixin` instead.\n",
            "  warnings.warn(\n",
            "Xformers is not installed correctly. If you want to use memory_efficient_attention to accelerate training use the following command to install Xformers\n",
            "pip install xformers.\n"
          ]
        }
      ]
    },
    {
      "cell_type": "markdown",
      "metadata": {
        "id": "tTncidebqMqT"
      },
      "source": [
        "구글 드라이브와 Colab을 연동합니다."
      ]
    },
    {
      "cell_type": "markdown",
      "metadata": {
        "id": "FgUYFux4rPVC"
      },
      "source": [
        "이번 예제에서 사용할 네이버 영화 감상분석 데이터를 다운로드 합니다"
      ]
    },
    {
      "cell_type": "code",
      "metadata": {
        "id": "vZ5lIpQLrOa3",
        "colab": {
          "base_uri": "https://localhost:8080/"
        },
        "outputId": "831e52d6-3877-410e-c358-b9e19f769e45"
      },
      "source": [
        "# 네이버 영화 감성분석 데이터 다운로드\n",
        "!git clone https://github.com/e9t/nsmc.git"
      ],
      "execution_count": null,
      "outputs": [
        {
          "output_type": "stream",
          "name": "stdout",
          "text": [
            "Cloning into 'nsmc'...\n",
            "remote: Enumerating objects: 14763, done.\u001b[K\n",
            "remote: Total 14763 (delta 0), reused 0 (delta 0), pack-reused 14763\u001b[K\n",
            "Receiving objects: 100% (14763/14763), 56.19 MiB | 17.79 MiB/s, done.\n",
            "Resolving deltas: 100% (1749/1749), done.\n",
            "Updating files: 100% (14737/14737), done.\n"
          ]
        }
      ]
    },
    {
      "cell_type": "code",
      "metadata": {
        "id": "8YXI6Q-hsQpn",
        "colab": {
          "base_uri": "https://localhost:8080/"
        },
        "outputId": "9764a9dd-97bd-43da-b921-84a8fcd6b269"
      },
      "source": [
        "os.listdir('nsmc')"
      ],
      "execution_count": null,
      "outputs": [
        {
          "output_type": "execute_result",
          "data": {
            "text/plain": [
              "['.git',\n",
              " 'ratings_train.txt',\n",
              " 'README.md',\n",
              " 'code',\n",
              " 'synopses.json',\n",
              " 'ratings.txt',\n",
              " 'raw',\n",
              " 'ratings_test.txt']"
            ]
          },
          "metadata": {},
          "execution_count": 7
        }
      ]
    },
    {
      "cell_type": "markdown",
      "metadata": {
        "id": "5JFTyGGxwIwI"
      },
      "source": [
        "딥러닝 훈련에 사용 할 train 데이터와 test 데이터를 pandas dataframe 형식으로 불러옵니다."
      ]
    },
    {
      "cell_type": "code",
      "metadata": {
        "id": "3XeWU_2OsRJ3"
      },
      "source": [
        "train = pd.read_table(\"nsmc/\"+\"ratings_train.txt\")\n",
        "test = pd.read_table(\"nsmc/\"+\"ratings_test.txt\")"
      ],
      "execution_count": null,
      "outputs": []
    },
    {
      "cell_type": "code",
      "metadata": {
        "id": "aGJpPdIBsVKx",
        "colab": {
          "base_uri": "https://localhost:8080/",
          "height": 676
        },
        "outputId": "6408065f-2807-4158-e421-fcab3c28997e"
      },
      "source": [
        "train[50:70]"
      ],
      "execution_count": null,
      "outputs": [
        {
          "output_type": "execute_result",
          "data": {
            "text/plain": [
              "          id                                           document  label\n",
              "50   9063648  영화가 사람의 영혼을 어루만져 줄 수도 있군요 거친 세상사를 잠시 잊고 동화같은 영...      1\n",
              "51   8272095              야 세르게이! 작은고추의 매운맛을 보여주마! 포퐁저그 콩진호가 간다      0\n",
              "52   2345905                   이렇게 가슴시리게 본 드라마가 또 있을까? 감동 그 자체!      1\n",
              "53   7865630  난또 저 꼬마애가 무슨 원한이 깊길래.,. 했더니 OO 그냥 혼자 나대다 OO걸 어...      0\n",
              "54   7207064                                              재미있어요      1\n",
              "55   5719655                                              전 좋아요      1\n",
              "56   1651126                                                 최고      0\n",
              "57   7246040  너무 충격적이엇다. 기분을 완전히 푹 꺼지게 하는 느낌... 활력이라고는 하나도 없...      1\n",
              "58    717775                                             심심한영화.      0\n",
              "59   8317483                                        백봉기 언제나오나요?      1\n",
              "60   1031725                        보는내내 그대로 들어맞는 예측 카리스마 없는 악역      0\n",
              "61   3993146                    불알이 나와서 당황...아무튼 영화가 중간에 끝나는 느낌      0\n",
              "62   2196616                       평범함속에 녹아든 평범한 일상. 조금 밋밋한게 흠.      0\n",
              "63   8203798  보던거라 계속보고있는데 전개도 느리고 주인공인 은희는 한두컷 나오면서 소극적인모습에...      0\n",
              "64   2332588                     사랑하고싶게하는,가슴속온감정을헤집어놓는영화예요정말최고.      1\n",
              "65  10084753  많은 사람들이 이 다큐를 보고 우리나라 슬픈 현대사의 한 단면에 대해 깊이 생각하고...      1\n",
              "66   8518645  예전 작품 캐릭터, 에피소드 재탕 삼탕 사골우려먹듯 우리고 내용은 산으로 가고 시청...      0\n",
              "67   7956793           김남길의 백점짜리 연기력과 초반 몰입도에도 불구하고 지루하고 손예진 ㅈㅈ      0\n",
              "68   3996917                       재밌네 비슷한 영화를 안보신 분들한테는 재미있을 듯      1\n",
              "69   8128006                 노래실력으로뽑는게 맞냐? 박시환이 mama나가면 진짜 망신이다      0"
            ],
            "text/html": [
              "\n",
              "  <div id=\"df-3a1cf3e0-03d9-4d73-b9f7-f19d72b084a7\" class=\"colab-df-container\">\n",
              "    <div>\n",
              "<style scoped>\n",
              "    .dataframe tbody tr th:only-of-type {\n",
              "        vertical-align: middle;\n",
              "    }\n",
              "\n",
              "    .dataframe tbody tr th {\n",
              "        vertical-align: top;\n",
              "    }\n",
              "\n",
              "    .dataframe thead th {\n",
              "        text-align: right;\n",
              "    }\n",
              "</style>\n",
              "<table border=\"1\" class=\"dataframe\">\n",
              "  <thead>\n",
              "    <tr style=\"text-align: right;\">\n",
              "      <th></th>\n",
              "      <th>id</th>\n",
              "      <th>document</th>\n",
              "      <th>label</th>\n",
              "    </tr>\n",
              "  </thead>\n",
              "  <tbody>\n",
              "    <tr>\n",
              "      <th>50</th>\n",
              "      <td>9063648</td>\n",
              "      <td>영화가 사람의 영혼을 어루만져 줄 수도 있군요 거친 세상사를 잠시 잊고 동화같은 영...</td>\n",
              "      <td>1</td>\n",
              "    </tr>\n",
              "    <tr>\n",
              "      <th>51</th>\n",
              "      <td>8272095</td>\n",
              "      <td>야 세르게이! 작은고추의 매운맛을 보여주마! 포퐁저그 콩진호가 간다</td>\n",
              "      <td>0</td>\n",
              "    </tr>\n",
              "    <tr>\n",
              "      <th>52</th>\n",
              "      <td>2345905</td>\n",
              "      <td>이렇게 가슴시리게 본 드라마가 또 있을까? 감동 그 자체!</td>\n",
              "      <td>1</td>\n",
              "    </tr>\n",
              "    <tr>\n",
              "      <th>53</th>\n",
              "      <td>7865630</td>\n",
              "      <td>난또 저 꼬마애가 무슨 원한이 깊길래.,. 했더니 OO 그냥 혼자 나대다 OO걸 어...</td>\n",
              "      <td>0</td>\n",
              "    </tr>\n",
              "    <tr>\n",
              "      <th>54</th>\n",
              "      <td>7207064</td>\n",
              "      <td>재미있어요</td>\n",
              "      <td>1</td>\n",
              "    </tr>\n",
              "    <tr>\n",
              "      <th>55</th>\n",
              "      <td>5719655</td>\n",
              "      <td>전 좋아요</td>\n",
              "      <td>1</td>\n",
              "    </tr>\n",
              "    <tr>\n",
              "      <th>56</th>\n",
              "      <td>1651126</td>\n",
              "      <td>최고</td>\n",
              "      <td>0</td>\n",
              "    </tr>\n",
              "    <tr>\n",
              "      <th>57</th>\n",
              "      <td>7246040</td>\n",
              "      <td>너무 충격적이엇다. 기분을 완전히 푹 꺼지게 하는 느낌... 활력이라고는 하나도 없...</td>\n",
              "      <td>1</td>\n",
              "    </tr>\n",
              "    <tr>\n",
              "      <th>58</th>\n",
              "      <td>717775</td>\n",
              "      <td>심심한영화.</td>\n",
              "      <td>0</td>\n",
              "    </tr>\n",
              "    <tr>\n",
              "      <th>59</th>\n",
              "      <td>8317483</td>\n",
              "      <td>백봉기 언제나오나요?</td>\n",
              "      <td>1</td>\n",
              "    </tr>\n",
              "    <tr>\n",
              "      <th>60</th>\n",
              "      <td>1031725</td>\n",
              "      <td>보는내내 그대로 들어맞는 예측 카리스마 없는 악역</td>\n",
              "      <td>0</td>\n",
              "    </tr>\n",
              "    <tr>\n",
              "      <th>61</th>\n",
              "      <td>3993146</td>\n",
              "      <td>불알이 나와서 당황...아무튼 영화가 중간에 끝나는 느낌</td>\n",
              "      <td>0</td>\n",
              "    </tr>\n",
              "    <tr>\n",
              "      <th>62</th>\n",
              "      <td>2196616</td>\n",
              "      <td>평범함속에 녹아든 평범한 일상. 조금 밋밋한게 흠.</td>\n",
              "      <td>0</td>\n",
              "    </tr>\n",
              "    <tr>\n",
              "      <th>63</th>\n",
              "      <td>8203798</td>\n",
              "      <td>보던거라 계속보고있는데 전개도 느리고 주인공인 은희는 한두컷 나오면서 소극적인모습에...</td>\n",
              "      <td>0</td>\n",
              "    </tr>\n",
              "    <tr>\n",
              "      <th>64</th>\n",
              "      <td>2332588</td>\n",
              "      <td>사랑하고싶게하는,가슴속온감정을헤집어놓는영화예요정말최고.</td>\n",
              "      <td>1</td>\n",
              "    </tr>\n",
              "    <tr>\n",
              "      <th>65</th>\n",
              "      <td>10084753</td>\n",
              "      <td>많은 사람들이 이 다큐를 보고 우리나라 슬픈 현대사의 한 단면에 대해 깊이 생각하고...</td>\n",
              "      <td>1</td>\n",
              "    </tr>\n",
              "    <tr>\n",
              "      <th>66</th>\n",
              "      <td>8518645</td>\n",
              "      <td>예전 작품 캐릭터, 에피소드 재탕 삼탕 사골우려먹듯 우리고 내용은 산으로 가고 시청...</td>\n",
              "      <td>0</td>\n",
              "    </tr>\n",
              "    <tr>\n",
              "      <th>67</th>\n",
              "      <td>7956793</td>\n",
              "      <td>김남길의 백점짜리 연기력과 초반 몰입도에도 불구하고 지루하고 손예진 ㅈㅈ</td>\n",
              "      <td>0</td>\n",
              "    </tr>\n",
              "    <tr>\n",
              "      <th>68</th>\n",
              "      <td>3996917</td>\n",
              "      <td>재밌네 비슷한 영화를 안보신 분들한테는 재미있을 듯</td>\n",
              "      <td>1</td>\n",
              "    </tr>\n",
              "    <tr>\n",
              "      <th>69</th>\n",
              "      <td>8128006</td>\n",
              "      <td>노래실력으로뽑는게 맞냐? 박시환이 mama나가면 진짜 망신이다</td>\n",
              "      <td>0</td>\n",
              "    </tr>\n",
              "  </tbody>\n",
              "</table>\n",
              "</div>\n",
              "    <div class=\"colab-df-buttons\">\n",
              "\n",
              "  <div class=\"colab-df-container\">\n",
              "    <button class=\"colab-df-convert\" onclick=\"convertToInteractive('df-3a1cf3e0-03d9-4d73-b9f7-f19d72b084a7')\"\n",
              "            title=\"Convert this dataframe to an interactive table.\"\n",
              "            style=\"display:none;\">\n",
              "\n",
              "  <svg xmlns=\"http://www.w3.org/2000/svg\" height=\"24px\" viewBox=\"0 -960 960 960\">\n",
              "    <path d=\"M120-120v-720h720v720H120Zm60-500h600v-160H180v160Zm220 220h160v-160H400v160Zm0 220h160v-160H400v160ZM180-400h160v-160H180v160Zm440 0h160v-160H620v160ZM180-180h160v-160H180v160Zm440 0h160v-160H620v160Z\"/>\n",
              "  </svg>\n",
              "    </button>\n",
              "\n",
              "  <style>\n",
              "    .colab-df-container {\n",
              "      display:flex;\n",
              "      gap: 12px;\n",
              "    }\n",
              "\n",
              "    .colab-df-convert {\n",
              "      background-color: #E8F0FE;\n",
              "      border: none;\n",
              "      border-radius: 50%;\n",
              "      cursor: pointer;\n",
              "      display: none;\n",
              "      fill: #1967D2;\n",
              "      height: 32px;\n",
              "      padding: 0 0 0 0;\n",
              "      width: 32px;\n",
              "    }\n",
              "\n",
              "    .colab-df-convert:hover {\n",
              "      background-color: #E2EBFA;\n",
              "      box-shadow: 0px 1px 2px rgba(60, 64, 67, 0.3), 0px 1px 3px 1px rgba(60, 64, 67, 0.15);\n",
              "      fill: #174EA6;\n",
              "    }\n",
              "\n",
              "    .colab-df-buttons div {\n",
              "      margin-bottom: 4px;\n",
              "    }\n",
              "\n",
              "    [theme=dark] .colab-df-convert {\n",
              "      background-color: #3B4455;\n",
              "      fill: #D2E3FC;\n",
              "    }\n",
              "\n",
              "    [theme=dark] .colab-df-convert:hover {\n",
              "      background-color: #434B5C;\n",
              "      box-shadow: 0px 1px 3px 1px rgba(0, 0, 0, 0.15);\n",
              "      filter: drop-shadow(0px 1px 2px rgba(0, 0, 0, 0.3));\n",
              "      fill: #FFFFFF;\n",
              "    }\n",
              "  </style>\n",
              "\n",
              "    <script>\n",
              "      const buttonEl =\n",
              "        document.querySelector('#df-3a1cf3e0-03d9-4d73-b9f7-f19d72b084a7 button.colab-df-convert');\n",
              "      buttonEl.style.display =\n",
              "        google.colab.kernel.accessAllowed ? 'block' : 'none';\n",
              "\n",
              "      async function convertToInteractive(key) {\n",
              "        const element = document.querySelector('#df-3a1cf3e0-03d9-4d73-b9f7-f19d72b084a7');\n",
              "        const dataTable =\n",
              "          await google.colab.kernel.invokeFunction('convertToInteractive',\n",
              "                                                    [key], {});\n",
              "        if (!dataTable) return;\n",
              "\n",
              "        const docLinkHtml = 'Like what you see? Visit the ' +\n",
              "          '<a target=\"_blank\" href=https://colab.research.google.com/notebooks/data_table.ipynb>data table notebook</a>'\n",
              "          + ' to learn more about interactive tables.';\n",
              "        element.innerHTML = '';\n",
              "        dataTable['output_type'] = 'display_data';\n",
              "        await google.colab.output.renderOutput(dataTable, element);\n",
              "        const docLink = document.createElement('div');\n",
              "        docLink.innerHTML = docLinkHtml;\n",
              "        element.appendChild(docLink);\n",
              "      }\n",
              "    </script>\n",
              "  </div>\n",
              "\n",
              "\n",
              "<div id=\"df-b0901c24-337a-4b91-af3b-cbe2a7bcfab7\">\n",
              "  <button class=\"colab-df-quickchart\" onclick=\"quickchart('df-b0901c24-337a-4b91-af3b-cbe2a7bcfab7')\"\n",
              "            title=\"Suggest charts.\"\n",
              "            style=\"display:none;\">\n",
              "\n",
              "<svg xmlns=\"http://www.w3.org/2000/svg\" height=\"24px\"viewBox=\"0 0 24 24\"\n",
              "     width=\"24px\">\n",
              "    <g>\n",
              "        <path d=\"M19 3H5c-1.1 0-2 .9-2 2v14c0 1.1.9 2 2 2h14c1.1 0 2-.9 2-2V5c0-1.1-.9-2-2-2zM9 17H7v-7h2v7zm4 0h-2V7h2v10zm4 0h-2v-4h2v4z\"/>\n",
              "    </g>\n",
              "</svg>\n",
              "  </button>\n",
              "\n",
              "<style>\n",
              "  .colab-df-quickchart {\n",
              "    background-color: #E8F0FE;\n",
              "    border: none;\n",
              "    border-radius: 50%;\n",
              "    cursor: pointer;\n",
              "    display: none;\n",
              "    fill: #1967D2;\n",
              "    height: 32px;\n",
              "    padding: 0 0 0 0;\n",
              "    width: 32px;\n",
              "  }\n",
              "\n",
              "  .colab-df-quickchart:hover {\n",
              "    background-color: #E2EBFA;\n",
              "    box-shadow: 0px 1px 2px rgba(60, 64, 67, 0.3), 0px 1px 3px 1px rgba(60, 64, 67, 0.15);\n",
              "    fill: #174EA6;\n",
              "  }\n",
              "\n",
              "  [theme=dark] .colab-df-quickchart {\n",
              "    background-color: #3B4455;\n",
              "    fill: #D2E3FC;\n",
              "  }\n",
              "\n",
              "  [theme=dark] .colab-df-quickchart:hover {\n",
              "    background-color: #434B5C;\n",
              "    box-shadow: 0px 1px 3px 1px rgba(0, 0, 0, 0.15);\n",
              "    filter: drop-shadow(0px 1px 2px rgba(0, 0, 0, 0.3));\n",
              "    fill: #FFFFFF;\n",
              "  }\n",
              "</style>\n",
              "\n",
              "  <script>\n",
              "    async function quickchart(key) {\n",
              "      const charts = await google.colab.kernel.invokeFunction(\n",
              "          'suggestCharts', [key], {});\n",
              "    }\n",
              "    (() => {\n",
              "      let quickchartButtonEl =\n",
              "        document.querySelector('#df-b0901c24-337a-4b91-af3b-cbe2a7bcfab7 button');\n",
              "      quickchartButtonEl.style.display =\n",
              "        google.colab.kernel.accessAllowed ? 'block' : 'none';\n",
              "    })();\n",
              "  </script>\n",
              "</div>\n",
              "    </div>\n",
              "  </div>\n"
            ]
          },
          "metadata": {},
          "execution_count": 9
        }
      ]
    },
    {
      "cell_type": "markdown",
      "metadata": {
        "id": "28aO4lGrwMjD"
      },
      "source": [
        "## 버트 인풋 만들기"
      ]
    },
    {
      "cell_type": "markdown",
      "metadata": {
        "id": "_4JGys9DrU4_"
      },
      "source": [
        "한글 데이터를 분석하려면, 100개가 넘는 언어에 대해 훈련된 버트를 사용해야 합니다.  \n",
        "이번에는 한국어 데이터로 훈련되었고, SKT에서 만든 KoBERT를 사용하도록 하겠습니다.  \n",
        "모델을 로드하기에 앞서, 토크나이저를 불러오도록 하겠습니다.  \n",
        "huggingface에서는 아주 쉽게 토크나이저를 불러올 수 있습니다.  \n",
        "https://github.com/monologg/KoBERT-NER 에서 kobert를 tokenize 할 수 있는 코드를 가져왔습니다."
      ]
    },
    {
      "cell_type": "code",
      "metadata": {
        "id": "ro5nKW78aktM"
      },
      "source": [
        "import logging\n",
        "import os\n",
        "import unicodedata\n",
        "from shutil import copyfile\n",
        "\n",
        "from transformers import PreTrainedTokenizer\n",
        "\n",
        "\n",
        "logger = logging.getLogger(__name__)\n",
        "\n",
        "VOCAB_FILES_NAMES = {\"vocab_file\": \"tokenizer_78b3253a26.model\",\n",
        "                     \"vocab_txt\": \"vocab.txt\"}\n",
        "\n",
        "PRETRAINED_VOCAB_FILES_MAP = {\n",
        "    \"vocab_file\": {\n",
        "        \"monologg/kobert\": \"https://s3.amazonaws.com/models.huggingface.co/bert/monologg/kobert/tokenizer_78b3253a26.model\",\n",
        "        \"monologg/kobert-lm\": \"https://s3.amazonaws.com/models.huggingface.co/bert/monologg/kobert-lm/tokenizer_78b3253a26.model\",\n",
        "        \"monologg/distilkobert\": \"https://s3.amazonaws.com/models.huggingface.co/bert/monologg/distilkobert/tokenizer_78b3253a26.model\"\n",
        "    },\n",
        "    \"vocab_txt\": {\n",
        "        \"monologg/kobert\": \"https://s3.amazonaws.com/models.huggingface.co/bert/monologg/kobert/vocab.txt\",\n",
        "        \"monologg/kobert-lm\": \"https://s3.amazonaws.com/models.huggingface.co/bert/monologg/kobert-lm/vocab.txt\",\n",
        "        \"monologg/distilkobert\": \"https://s3.amazonaws.com/models.huggingface.co/bert/monologg/distilkobert/vocab.txt\"\n",
        "    }\n",
        "}\n",
        "\n",
        "PRETRAINED_POSITIONAL_EMBEDDINGS_SIZES = {\n",
        "    \"monologg/kobert\": 512,\n",
        "    \"monologg/kobert-lm\": 512,\n",
        "    \"monologg/distilkobert\": 512\n",
        "}\n",
        "\n",
        "PRETRAINED_INIT_CONFIGURATION = {\n",
        "    \"monologg/kobert\": {\"do_lower_case\": False},\n",
        "    \"monologg/kobert-lm\": {\"do_lower_case\": False},\n",
        "    \"monologg/distilkobert\": {\"do_lower_case\": False}\n",
        "}\n",
        "\n",
        "SPIECE_UNDERLINE = u'▁'\n",
        "\n",
        "\n",
        "class KoBertTokenizer(PreTrainedTokenizer):\n",
        "    \"\"\"\n",
        "        SentencePiece based tokenizer. Peculiarities:\n",
        "            - requires `SentencePiece <https://github.com/google/sentencepiece>`_\n",
        "    \"\"\"\n",
        "    vocab_files_names = VOCAB_FILES_NAMES\n",
        "    pretrained_vocab_files_map = PRETRAINED_VOCAB_FILES_MAP\n",
        "    pretrained_init_configuration = PRETRAINED_INIT_CONFIGURATION\n",
        "    max_model_input_sizes = PRETRAINED_POSITIONAL_EMBEDDINGS_SIZES\n",
        "\n",
        "    def __init__(\n",
        "            self,\n",
        "            vocab_file,\n",
        "            vocab_txt,\n",
        "            do_lower_case=False,\n",
        "            remove_space=True,\n",
        "            keep_accents=False,\n",
        "            unk_token=\"[UNK]\",\n",
        "            sep_token=\"[SEP]\",\n",
        "            pad_token=\"[PAD]\",\n",
        "            cls_token=\"[CLS]\",\n",
        "            mask_token=\"[MASK]\",\n",
        "            **kwargs):\n",
        "        super().__init__(\n",
        "            unk_token=unk_token,\n",
        "            sep_token=sep_token,\n",
        "            pad_token=pad_token,\n",
        "            cls_token=cls_token,\n",
        "            mask_token=mask_token,\n",
        "            **kwargs\n",
        "        )\n",
        "\n",
        "        # Build vocab\n",
        "        self.token2idx = dict()\n",
        "        self.idx2token = []\n",
        "        with open(vocab_txt, 'r', encoding='utf-8') as f:\n",
        "            for idx, token in enumerate(f):\n",
        "                token = token.strip()\n",
        "                self.token2idx[token] = idx\n",
        "                self.idx2token.append(token)\n",
        "\n",
        "        try:\n",
        "            import sentencepiece as spm\n",
        "        except ImportError:\n",
        "            logger.warning(\"You need to install SentencePiece to use KoBertTokenizer: https://github.com/google/sentencepiece\"\n",
        "                           \"pip install sentencepiece\")\n",
        "\n",
        "        self.do_lower_case = do_lower_case\n",
        "        self.remove_space = remove_space\n",
        "        self.keep_accents = keep_accents\n",
        "        self.vocab_file = vocab_file\n",
        "        self.vocab_txt = vocab_txt\n",
        "\n",
        "        self.sp_model = spm.SentencePieceProcessor()\n",
        "        self.sp_model.Load(vocab_file)\n",
        "\n",
        "    @property\n",
        "    def vocab_size(self):\n",
        "        return len(self.idx2token)\n",
        "\n",
        "    def get_vocab(self):\n",
        "        return dict(self.token2idx, **self.added_tokens_encoder)\n",
        "\n",
        "    def __getstate__(self):\n",
        "        state = self.__dict__.copy()\n",
        "        state[\"sp_model\"] = None\n",
        "        return state\n",
        "\n",
        "    def __setstate__(self, d):\n",
        "        self.__dict__ = d\n",
        "        try:\n",
        "            import sentencepiece as spm\n",
        "        except ImportError:\n",
        "            logger.warning(\"You need to install SentencePiece to use KoBertTokenizer: https://github.com/google/sentencepiece\"\n",
        "                           \"pip install sentencepiece\")\n",
        "        self.sp_model = spm.SentencePieceProcessor()\n",
        "        self.sp_model.Load(self.vocab_file)\n",
        "\n",
        "    def preprocess_text(self, inputs):\n",
        "        if self.remove_space:\n",
        "            outputs = \" \".join(inputs.strip().split())\n",
        "        else:\n",
        "            outputs = inputs\n",
        "        outputs = outputs.replace(\"``\", '\"').replace(\"''\", '\"')\n",
        "\n",
        "        if not self.keep_accents:\n",
        "            outputs = unicodedata.normalize('NFKD', outputs)\n",
        "            outputs = \"\".join([c for c in outputs if not unicodedata.combining(c)])\n",
        "        if self.do_lower_case:\n",
        "            outputs = outputs.lower()\n",
        "\n",
        "        return outputs\n",
        "\n",
        "    def _tokenize(self, text, return_unicode=True, sample=False):\n",
        "        \"\"\" Tokenize a string. \"\"\"\n",
        "        text = self.preprocess_text(text)\n",
        "\n",
        "        if not sample:\n",
        "            pieces = self.sp_model.EncodeAsPieces(text)\n",
        "        else:\n",
        "            pieces = self.sp_model.SampleEncodeAsPieces(text, 64, 0.1)\n",
        "        new_pieces = []\n",
        "        for piece in pieces:\n",
        "            if len(piece) > 1 and piece[-1] == str(\",\") and piece[-2].isdigit():\n",
        "                cur_pieces = self.sp_model.EncodeAsPieces(piece[:-1].replace(SPIECE_UNDERLINE, \"\"))\n",
        "                if piece[0] != SPIECE_UNDERLINE and cur_pieces[0][0] == SPIECE_UNDERLINE:\n",
        "                    if len(cur_pieces[0]) == 1:\n",
        "                        cur_pieces = cur_pieces[1:]\n",
        "                    else:\n",
        "                        cur_pieces[0] = cur_pieces[0][1:]\n",
        "                cur_pieces.append(piece[-1])\n",
        "                new_pieces.extend(cur_pieces)\n",
        "            else:\n",
        "                new_pieces.append(piece)\n",
        "\n",
        "        return new_pieces\n",
        "\n",
        "    def _convert_token_to_id(self, token):\n",
        "        \"\"\" Converts a token (str/unicode) in an id using the vocab. \"\"\"\n",
        "        return self.token2idx.get(token, self.token2idx[self.unk_token])\n",
        "\n",
        "    def _convert_id_to_token(self, index, return_unicode=True):\n",
        "        \"\"\"Converts an index (integer) in a token (string/unicode) using the vocab.\"\"\"\n",
        "        return self.idx2token[index]\n",
        "\n",
        "    def convert_tokens_to_string(self, tokens):\n",
        "        \"\"\"Converts a sequence of tokens (strings for sub-words) in a single string.\"\"\"\n",
        "        out_string = \"\".join(tokens).replace(SPIECE_UNDERLINE, \" \").strip()\n",
        "        return out_string\n",
        "\n",
        "    def build_inputs_with_special_tokens(self, token_ids_0, token_ids_1=None):\n",
        "        \"\"\"\n",
        "        Build model inputs from a sequence or a pair of sequence for sequence classification tasks\n",
        "        by concatenating and adding special tokens.\n",
        "        A KoBERT sequence has the following format:\n",
        "            single sequence: [CLS] X [SEP]\n",
        "            pair of sequences: [CLS] A [SEP] B [SEP]\n",
        "        \"\"\"\n",
        "        if token_ids_1 is None:\n",
        "            return [self.cls_token_id] + token_ids_0 + [self.sep_token_id]\n",
        "        cls = [self.cls_token_id]\n",
        "        sep = [self.sep_token_id]\n",
        "        return cls + token_ids_0 + sep + token_ids_1 + sep\n",
        "\n",
        "    def get_special_tokens_mask(self, token_ids_0, token_ids_1=None, already_has_special_tokens=False):\n",
        "        \"\"\"\n",
        "        Retrieves sequence ids from a token list that has no special tokens added. This method is called when adding\n",
        "        special tokens using the tokenizer ``prepare_for_model`` or ``encode_plus`` methods.\n",
        "        Args:\n",
        "            token_ids_0: list of ids (must not contain special tokens)\n",
        "            token_ids_1: Optional list of ids (must not contain special tokens), necessary when fetching sequence ids\n",
        "                for sequence pairs\n",
        "            already_has_special_tokens: (default False) Set to True if the token list is already formated with\n",
        "                special tokens for the model\n",
        "        Returns:\n",
        "            A list of integers in the range [0, 1]: 0 for a special token, 1 for a sequence token.\n",
        "        \"\"\"\n",
        "\n",
        "        if already_has_special_tokens:\n",
        "            if token_ids_1 is not None:\n",
        "                raise ValueError(\n",
        "                    \"You should not supply a second sequence if the provided sequence of \"\n",
        "                    \"ids is already formated with special tokens for the model.\"\n",
        "                )\n",
        "            return list(map(lambda x: 1 if x in [self.sep_token_id, self.cls_token_id] else 0, token_ids_0))\n",
        "\n",
        "        if token_ids_1 is not None:\n",
        "            return [1] + ([0] * len(token_ids_0)) + [1] + ([0] * len(token_ids_1)) + [1]\n",
        "        return [1] + ([0] * len(token_ids_0)) + [1]\n",
        "\n",
        "    def create_token_type_ids_from_sequences(self, token_ids_0, token_ids_1=None):\n",
        "        \"\"\"\n",
        "        Creates a mask from the two sequences passed to be used in a sequence-pair classification task.\n",
        "        A KoBERT sequence pair mask has the following format:\n",
        "        0 0 0 0 0 0 0 0 0 0 1 1 1 1 1 1 1 1 1 1 1\n",
        "        | first sequence    | second sequence\n",
        "        if token_ids_1 is None, only returns the first portion of the mask (0's).\n",
        "        \"\"\"\n",
        "        sep = [self.sep_token_id]\n",
        "        cls = [self.cls_token_id]\n",
        "        if token_ids_1 is None:\n",
        "            return len(cls + token_ids_0 + sep) * [0]\n",
        "        return len(cls + token_ids_0 + sep) * [0] + len(token_ids_1 + sep) * [1]\n",
        "\n",
        "    def save_vocabulary(self, save_directory):\n",
        "        \"\"\" Save the sentencepiece vocabulary (copy original file) and special tokens file\n",
        "            to a directory.\n",
        "        \"\"\"\n",
        "        if not os.path.isdir(save_directory):\n",
        "            logger.error(\"Vocabulary path ({}) should be a directory\".format(save_directory))\n",
        "            return\n",
        "\n",
        "        # 1. Save sentencepiece model\n",
        "        out_vocab_model = os.path.join(save_directory, VOCAB_FILES_NAMES[\"vocab_file\"])\n",
        "\n",
        "        if os.path.abspath(self.vocab_file) != os.path.abspath(out_vocab_model):\n",
        "            copyfile(self.vocab_file, out_vocab_model)\n",
        "\n",
        "        # 2. Save vocab.txt\n",
        "        index = 0\n",
        "        out_vocab_txt = os.path.join(save_directory, VOCAB_FILES_NAMES[\"vocab_txt\"])\n",
        "        with open(out_vocab_txt, \"w\", encoding=\"utf-8\") as writer:\n",
        "            for token, token_index in sorted(self.token2idx.items(), key=lambda kv: kv[1]):\n",
        "                if index != token_index:\n",
        "                    logger.warning(\n",
        "                        \"Saving vocabulary to {}: vocabulary indices are not consecutive.\"\n",
        "                        \" Please check that the vocabulary is not corrupted!\".format(out_vocab_txt)\n",
        "                    )\n",
        "                    index = token_index\n",
        "                writer.write(token + \"\\n\")\n",
        "                index += 1\n",
        "\n",
        "        return out_vocab_model, out_vocab_txt"
      ],
      "execution_count": null,
      "outputs": []
    },
    {
      "cell_type": "markdown",
      "metadata": {
        "id": "rWK4I6oC44Or"
      },
      "source": [
        "kobert 토크나이즈를 임포트합니다."
      ]
    },
    {
      "cell_type": "code",
      "metadata": {
        "id": "g4Xgl9RtsGul",
        "colab": {
          "base_uri": "https://localhost:8080/",
          "height": 762,
          "referenced_widgets": [
            "3d18953838fe47f3ab4c82cdb013fb08",
            "f14642cece8d4cbbaa14a035865d386c",
            "193f67e4e5674e7dbbac6ebddb6430c1",
            "f70a1abf174b4ad692baa1a4c413c5dc",
            "f8b78065c3214f238a7ba722a65323e3",
            "afc0b15c6c9a472a9c3df6bbe748e6d1",
            "744019fc54d64cc08bbcdb9622b9132d",
            "41d4b004c94d4f66811324051bae0573",
            "6dc7d69ae00c434cbeb0202b62743a1c",
            "ecf1f61e4f8541cea429ca06fb969291",
            "b661f5944e9a4b1bbc1071b3e671b413",
            "e7547f53769b43b7b29cd78f124f6e16",
            "0563d3c53d584f44abe75cc46538d6e4",
            "4f7bee8fb7c9492098a381c5a872a14e",
            "671fbcb8678444fbb0f57f43c0932b3a",
            "1b5bb55fbc9142e8bc13b747f4b81521",
            "3ae3e76e151343a3ae7e45e1c887de9e",
            "2d8f3c2e1bb5485b90ad6dd9a6877f0a",
            "d616dc19c6044118841c7823d8ab6c1d",
            "d1892f9c5f0d474387e3e3c1221b38c6",
            "a9c5ecff9fb5419e8156587b09a80a89",
            "763f2a668c274fc0b15495cfd5084c32",
            "4f058c51b3a34abdadb0c0faf4e6ec2d",
            "3d2baa2b12cb4763aefcd8d447ffa742",
            "766196a98ae24c96b051bea54a1e2d99",
            "d18f424788fe490abdb501a2a281e79e",
            "809a8f4be49e4281a2e8092dc0ffdb69",
            "c830b067bf5743099201953c513e6627",
            "ce8d3c300b814cb2b42533697cc76036",
            "e9c5e28d516d4e3b8a8e19ead921b491",
            "95aa5a6ad574459db0465eaf31597324",
            "9c905b86905f4f4a9cb60618b1736ffc",
            "98ddc5c4f1314b09ab3a2d6ce39b6e4f",
            "854fa0bd18954ff881cfd31f53b581f8",
            "7033002667b340d7a907f816864375fb",
            "7acec4d97e694511882adaba4dd8e969",
            "470f10d029894cdabd0759e11ed4af3a",
            "c38ce5b9c286474381fbc41d1321d42d",
            "0e0b056945834333bd5444ef08aca179",
            "8bae118904f945f4aadaf66648dcffd1",
            "f7c47b9d0328424eb4d6414b23976e43",
            "75f3da1b3e8c49d5818e705884850b13",
            "daa7624a79d6435293b907de1f19891f",
            "197ed6707cd54d89ac52724a7fa1f3de"
          ]
        },
        "outputId": "2fbaf7df-0322-4cd4-afb3-0b51d993879f"
      },
      "source": [
        "tokenizer = KoBertTokenizer.from_pretrained('monologg/kobert')"
      ],
      "execution_count": null,
      "outputs": [
        {
          "output_type": "display_data",
          "data": {
            "text/plain": [
              "Downloading (…)zer_78b3253a26.model:   0%|          | 0.00/371k [00:00<?, ?B/s]"
            ],
            "application/vnd.jupyter.widget-view+json": {
              "version_major": 2,
              "version_minor": 0,
              "model_id": "3d18953838fe47f3ab4c82cdb013fb08"
            }
          },
          "metadata": {}
        },
        {
          "output_type": "display_data",
          "data": {
            "text/plain": [
              "Downloading (…)solve/main/vocab.txt:   0%|          | 0.00/77.8k [00:00<?, ?B/s]"
            ],
            "application/vnd.jupyter.widget-view+json": {
              "version_major": 2,
              "version_minor": 0,
              "model_id": "e7547f53769b43b7b29cd78f124f6e16"
            }
          },
          "metadata": {}
        },
        {
          "output_type": "display_data",
          "data": {
            "text/plain": [
              "Downloading (…)okenizer_config.json:   0%|          | 0.00/51.0 [00:00<?, ?B/s]"
            ],
            "application/vnd.jupyter.widget-view+json": {
              "version_major": 2,
              "version_minor": 0,
              "model_id": "4f058c51b3a34abdadb0c0faf4e6ec2d"
            }
          },
          "metadata": {}
        },
        {
          "output_type": "stream",
          "name": "stderr",
          "text": [
            "loading file tokenizer_78b3253a26.model from cache at /root/.cache/huggingface/hub/models--monologg--kobert/snapshots/30941062c0f3dde73b246468f449f2448c7694bc/tokenizer_78b3253a26.model\n",
            "loading file vocab.txt from cache at /root/.cache/huggingface/hub/models--monologg--kobert/snapshots/30941062c0f3dde73b246468f449f2448c7694bc/vocab.txt\n",
            "loading file added_tokens.json from cache at None\n",
            "loading file special_tokens_map.json from cache at None\n",
            "loading file tokenizer_config.json from cache at /root/.cache/huggingface/hub/models--monologg--kobert/snapshots/30941062c0f3dde73b246468f449f2448c7694bc/tokenizer_config.json\n"
          ]
        },
        {
          "output_type": "display_data",
          "data": {
            "text/plain": [
              "Downloading (…)lve/main/config.json:   0%|          | 0.00/426 [00:00<?, ?B/s]"
            ],
            "application/vnd.jupyter.widget-view+json": {
              "version_major": 2,
              "version_minor": 0,
              "model_id": "854fa0bd18954ff881cfd31f53b581f8"
            }
          },
          "metadata": {}
        },
        {
          "output_type": "stream",
          "name": "stderr",
          "text": [
            "loading configuration file config.json from cache at /root/.cache/huggingface/hub/models--monologg--kobert/snapshots/30941062c0f3dde73b246468f449f2448c7694bc/config.json\n",
            "Model config BertConfig {\n",
            "  \"_name_or_path\": \"monologg/kobert\",\n",
            "  \"architectures\": [\n",
            "    \"BertModel\"\n",
            "  ],\n",
            "  \"attention_probs_dropout_prob\": 0.1,\n",
            "  \"classifier_dropout\": null,\n",
            "  \"hidden_act\": \"gelu\",\n",
            "  \"hidden_dropout_prob\": 0.1,\n",
            "  \"hidden_size\": 768,\n",
            "  \"initializer_range\": 0.02,\n",
            "  \"intermediate_size\": 3072,\n",
            "  \"layer_norm_eps\": 1e-12,\n",
            "  \"max_position_embeddings\": 512,\n",
            "  \"model_type\": \"bert\",\n",
            "  \"num_attention_heads\": 12,\n",
            "  \"num_hidden_layers\": 12,\n",
            "  \"pad_token_id\": 1,\n",
            "  \"position_embedding_type\": \"absolute\",\n",
            "  \"transformers_version\": \"4.31.0\",\n",
            "  \"type_vocab_size\": 2,\n",
            "  \"use_cache\": true,\n",
            "  \"vocab_size\": 8002\n",
            "}\n",
            "\n",
            "The tokenizer class you load from this checkpoint is not the same type as the class this function is called from. It may result in unexpected tokenization. \n",
            "The tokenizer class you load from this checkpoint is 'BertTokenizer'. \n",
            "The class this function is called from is 'KoBertTokenizer'.\n"
          ]
        }
      ]
    },
    {
      "cell_type": "markdown",
      "metadata": {
        "id": "ii2W5UbyuN2b"
      },
      "source": [
        "버트를 사용하기에 앞서 가장 기초에 속하는 tokenizer 사용 방법에 대해서 잠시 배워보도록 하겠습니다.  \n",
        "tokenizer.encode => 문장을 버트 모델의 인풋 토큰값으로 바꿔줌  \n",
        "tokenizer.tokenize => 문장을 토큰화"
      ]
    },
    {
      "cell_type": "code",
      "metadata": {
        "id": "eybf2-OluWro",
        "colab": {
          "base_uri": "https://localhost:8080/"
        },
        "outputId": "990561bc-2b1e-4900-ba3a-a879bfda5089"
      },
      "source": [
        "print(tokenizer.encode(\"보는내내 그대로 들어맞는 예측 카리스마 없는 악역\"))"
      ],
      "execution_count": null,
      "outputs": [
        {
          "output_type": "stream",
          "name": "stdout",
          "text": [
            "[2, 2366, 5678, 5678, 1192, 1804, 6166, 5760, 3415, 4638, 3272, 3133, 6926, 3]\n"
          ]
        }
      ]
    },
    {
      "cell_type": "code",
      "metadata": {
        "id": "CshMEDzEcvdw",
        "colab": {
          "base_uri": "https://localhost:8080/"
        },
        "outputId": "fa2c9ce4-c7ad-47bd-acb4-8e6fad2c05bd"
      },
      "source": [
        "print(tokenizer.tokenize(\"보는내내 그대로 들어맞는 예측 카리스마 없는 악역\"))\n",
        "print(tokenizer.tokenize(\"보는내내그대로들어맞는예측카리스마없는악역\"))"
      ],
      "execution_count": null,
      "outputs": [
        {
          "output_type": "stream",
          "name": "stdout",
          "text": [
            "['▁보는', '내', '내', '▁그대로', '▁들어', '맞', '는', '▁예측', '▁카리스마', '▁없는', '▁악', '역']\n",
            "['▁보는', '내', '내', '그', '대로', '들어', '맞', '는', '예', '측', '카', '리스', '마', '없는', '악', '역']\n"
          ]
        }
      ]
    },
    {
      "cell_type": "markdown",
      "metadata": {
        "id": "ORJ-Eq61u2V1"
      },
      "source": [
        "우리가 네이버 영화 평가 긍부정 분석을 위해, train 15만개의 데이터를 버트의 인풋 값으로 바꿔주겠습니다.  \n",
        "버트의 인풋은 토큰, 세그멘트, 마스크로 나눠집니다.  \n",
        "이 세 값이 버트 모형에 들어가서, 버트 모형에 맞게 고차원으로 임베딩이 되게 되는 원리입니다.  \n",
        "\n",
        "토큰은 말 그대로 단어를 단어사전의 위치값으로 표현해주는 것이며,\n",
        "세그멘트는 버트 모형에서 문장이 앞 문장인지, 뒷 문장인지 표현해주는 것입니다.(본 예제는 인풋으로 문장이 하나만 들어가므로 0으로 통일)  \n",
        "마스크는 문장이 유효한 값인지, 아니면 유효하지 않은 값이라 패딩 값으로 채운 것인지를 나타냅니다.  \n",
        "문장이 유효한 값이면 1로 채우고, 유효하지 않은 값이면 0으로 채우게 됩니다.  \n",
        "문장마다 문장 길이는 다르지만, 버트의 인풋 길이는 일정해야 하므로, 버트에서 지정한 문장 길이를 초과하면 패딩값인 0을 채우게 됩니다."
      ]
    },
    {
      "cell_type": "markdown",
      "source": [
        "\n",
        "\n",
        "*   세그먼트는 예를 들어 문장이 두 개가 있다면, 앞의 문장과 뒤의 문장을 구분하는 것입니다.\n",
        "포지션 임베딩은 단순히 단어의 위치를 말합니다.\n",
        "토큰, 세그먼트, 포지션을 인풋으로 버트 모형에 넣으면 기하학적인 문장 공간으로 임베딩이 됩니다.\n",
        "\n",
        "![68747470733a2f2f692e696d6775722e636f6d2f6c394254616f332e706e67.png](data:image/png;base64,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)\n"
      ],
      "metadata": {
        "id": "kM3WYz5a-xlO"
      }
    },
    {
      "cell_type": "markdown",
      "source": [
        "\n",
        "\n",
        "*   (토큰) 첫번째 인풋은 토큰화 된 것이 인덱싱되어 숫자로 변환된 것\n",
        "*   (세그멘트) 두번째 인풋은 앞문장인지 뒷문장인지 알려주는 숫자들입니다. 이번 튜토리얼에서는 파인튜닝 과정이라 앞문장 뒷문장 구분을 안하기 때문에 모두 0으로 하였습니다.\n",
        "*   (포지션) 단어 순서에 따라서 자동으로 부여됩니다.\n",
        "\n",
        "\n",
        "\n"
      ],
      "metadata": {
        "id": "wfzmHHwx_XYu"
      }
    },
    {
      "cell_type": "code",
      "metadata": {
        "id": "nM-XXAuCxIf5",
        "colab": {
          "base_uri": "https://localhost:8080/"
        },
        "outputId": "2c95558e-a105-40f2-ee40-e201ecd58698"
      },
      "source": [
        "print(tokenizer.tokenize(\"전율을 일으키는 영화. 다시 보고싶은 영화\"))"
      ],
      "execution_count": null,
      "outputs": [
        {
          "output_type": "stream",
          "name": "stdout",
          "text": [
            "['▁전', '율을', '▁일으키', '는', '▁영화', '.', '▁다시', '▁보고', '싶', '은', '▁영화']\n"
          ]
        }
      ]
    },
    {
      "cell_type": "code",
      "metadata": {
        "id": "VyhSwEAUxgL7",
        "colab": {
          "base_uri": "https://localhost:8080/"
        },
        "outputId": "6f083083-5120-47ee-9e4b-2f76922ebb21"
      },
      "source": [
        "print(tokenizer.encode(\"전율을 일으키는 영화. 다시 보고싶은 영화\"))"
      ],
      "execution_count": null,
      "outputs": [
        {
          "output_type": "stream",
          "name": "stdout",
          "text": [
            "[2, 4012, 7071, 3815, 5760, 3394, 54, 1574, 2358, 6751, 7086, 3394, 3]\n"
          ]
        }
      ]
    },
    {
      "cell_type": "code",
      "metadata": {
        "id": "aS9ZeYY1yC3J",
        "colab": {
          "base_uri": "https://localhost:8080/"
        },
        "outputId": "c445e58d-a61c-4999-bfaf-a4ef3c3afb2e"
      },
      "source": [
        "print(tokenizer.encode(\"전율을 일으키는 영화. 다시 보고싶은 영화\", max_length=64, pad_to_max_length=True))"
      ],
      "execution_count": null,
      "outputs": [
        {
          "output_type": "stream",
          "name": "stderr",
          "text": [
            "Truncation was not explicitly activated but `max_length` is provided a specific value, please use `truncation=True` to explicitly truncate examples to max length. Defaulting to 'longest_first' truncation strategy. If you encode pairs of sequences (GLUE-style) with the tokenizer you can select this strategy more precisely by providing a specific strategy to `truncation`.\n"
          ]
        },
        {
          "output_type": "stream",
          "name": "stdout",
          "text": [
            "[2, 4012, 7071, 3815, 5760, 3394, 54, 1574, 2358, 6751, 7086, 3394, 3, 1, 1, 1, 1, 1, 1, 1, 1, 1, 1, 1, 1, 1, 1, 1, 1, 1, 1, 1, 1, 1, 1, 1, 1, 1, 1, 1, 1, 1, 1, 1, 1, 1, 1, 1, 1, 1, 1, 1, 1, 1, 1, 1, 1, 1, 1, 1, 1, 1, 1, 1]\n"
          ]
        },
        {
          "output_type": "stream",
          "name": "stderr",
          "text": [
            "/usr/local/lib/python3.10/dist-packages/transformers/tokenization_utils_base.py:2393: FutureWarning: The `pad_to_max_length` argument is deprecated and will be removed in a future version, use `padding=True` or `padding='longest'` to pad to the longest sequence in the batch, or use `padding='max_length'` to pad to a max length. In this case, you can give a specific length with `max_length` (e.g. `max_length=45`) or leave max_length to None to pad to the maximal input size of the model (e.g. 512 for Bert).\n",
            "  warnings.warn(\n"
          ]
        }
      ]
    },
    {
      "cell_type": "markdown",
      "metadata": {
        "id": "Cr-l7XNcwtQB"
      },
      "source": [
        "토큰 인풋의 예를 들면 다음과 같습니다.  \n",
        "문장을 토크나이징 하면 \"전율을 일으키는 영화. 다시 보고싶은 영화\"가  \n",
        "\"'전', '##율', '##을', '일', '##으', '##키는', '영화', '.', '다시', '보고', '##싶', '##은', '영화'\" 로 토크나이징이 됩니다.  \n",
        "이거를 버트 인풋에 들어갈 숫자로 바꿔주면,  \n",
        "[\"101, 9665, 119183, 10622, 9641, 119185, 66815, 42428, 119, 25805, 98199, 119088, 10892, 42428, 102\"]  \n",
        "로 바뀌게 됩니다. 여기 나오는 숫자들이 버트 인풋에 들어가는 토큰 인풋입니다.  \n",
        "버트 모형에 들어가는 인풋은 사실 일정한 길이를 가져야 합니다.(본 예제에서는 64)  \n",
        "따라서 남는 부분은 0으로 채워지게 됩니다(패딩)"
      ]
    },
    {
      "cell_type": "code",
      "metadata": {
        "id": "XBa3KLTxyV0e",
        "colab": {
          "base_uri": "https://localhost:8080/"
        },
        "outputId": "877dcf21-7780-435b-c1be-16c7e62f272b"
      },
      "source": [
        "# 세그멘트 인풋\n",
        "print([0]*64)"
      ],
      "execution_count": null,
      "outputs": [
        {
          "output_type": "stream",
          "name": "stdout",
          "text": [
            "[0, 0, 0, 0, 0, 0, 0, 0, 0, 0, 0, 0, 0, 0, 0, 0, 0, 0, 0, 0, 0, 0, 0, 0, 0, 0, 0, 0, 0, 0, 0, 0, 0, 0, 0, 0, 0, 0, 0, 0, 0, 0, 0, 0, 0, 0, 0, 0, 0, 0, 0, 0, 0, 0, 0, 0, 0, 0, 0, 0, 0, 0, 0, 0]\n"
          ]
        }
      ]
    },
    {
      "cell_type": "markdown",
      "metadata": {
        "id": "qQxClepBx5aB"
      },
      "source": [
        "세그멘트 인풋은 문장이 앞문장인지 뒷문장인지 구분해주는 역할을 하는데요  \n",
        "본 문장에서는 문장 하나만 인풋으로 들어가기 때문에 0만 들어가게 되고, 문장 길이만큼의 0이 인풋으로 들어가게 됩니다."
      ]
    },
    {
      "cell_type": "code",
      "metadata": {
        "id": "d_sprXQ2yczY",
        "colab": {
          "base_uri": "https://localhost:8080/"
        },
        "outputId": "6283af23-091d-4374-91f6-bf6889437aaf"
      },
      "source": [
        "# 마스크 인풋\n",
        "valid_num = len(tokenizer.encode(\"전율을 일으키는 영화. 다시 보고싶은 영화\"))\n",
        "print(valid_num * [1] + (64 - valid_num) * [0])"
      ],
      "execution_count": null,
      "outputs": [
        {
          "output_type": "stream",
          "name": "stdout",
          "text": [
            "[1, 1, 1, 1, 1, 1, 1, 1, 1, 1, 1, 1, 1, 0, 0, 0, 0, 0, 0, 0, 0, 0, 0, 0, 0, 0, 0, 0, 0, 0, 0, 0, 0, 0, 0, 0, 0, 0, 0, 0, 0, 0, 0, 0, 0, 0, 0, 0, 0, 0, 0, 0, 0, 0, 0, 0, 0, 0, 0, 0, 0, 0, 0, 0]\n"
          ]
        }
      ]
    },
    {
      "cell_type": "markdown",
      "metadata": {
        "id": "iykc56uIzH1R"
      },
      "source": [
        "마스크 인풋은 토큰 인풋에서 패딩이 아닌 부분은 1, 패딩인 부분은 0으로 두게 됩니다."
      ]
    },
    {
      "cell_type": "markdown",
      "metadata": {
        "id": "6wEKq5qfxH9t"
      },
      "source": [
        "종합하면,  \n",
        "버트의 인풋은 토큰, 세그먼트, 마스크로 이루어져 있습니다.  \n",
        "\"전율을 일으키는 영화. 다시 보고싶은 영화\" 라는 문장을 가지고 예를 들면,\n",
        "\n",
        "토큰 인풋 : [101, 9665, 119183, 10622, 9641, 119185, 66815, 42428, 119, 25805, 98199, 119088, 10892, 42428, 102, 0, 0, 0, 0, 0, 0, 0, 0, 0, 0, 0, 0, 0, 0, 0, 0, 0, 0, 0, 0, 0, 0, 0, 0, 0, 0, 0, 0, 0, 0, 0, 0, 0, 0, 0, 0, 0, 0, 0, 0, 0, 0, 0, 0, 0, 0, 0, 0, 0, 0, 0, 0, 0, 0, 0, 0, 0, 0, 0, 0, 0, 0, 0, 0, 0, 0, 0, 0, 0, 0, 0, 0, 0, 0, 0, 0, 0, 0, 0, 0, 0, 0, 0, 0, 0, 0, 0, 0, 0, 0, 0, 0, 0, 0, 0, 0, 0, 0, 0, 0, 0, 0, 0, 0, 0, 0, 0, 0, 0, 0, 0, 0, 0]\n",
        "\n",
        "세그먼트 인풋 : [0, 0, 0, 0, 0, 0, 0, 0, 0, 0, 0, 0, 0, 0, 0, 0, 0, 0, 0, 0, 0, 0, 0, 0, 0, 0, 0, 0, 0, 0, 0, 0, 0, 0, 0, 0, 0, 0, 0, 0, 0, 0, 0, 0, 0, 0, 0, 0, 0, 0, 0, 0, 0, 0, 0, 0, 0, 0, 0, 0, 0, 0, 0, 0, 0, 0, 0, 0, 0, 0, 0, 0, 0, 0, 0, 0, 0, 0, 0, 0, 0, 0, 0, 0, 0, 0, 0, 0, 0, 0, 0, 0, 0, 0, 0, 0, 0, 0, 0, 0, 0, 0, 0, 0, 0, 0, 0, 0, 0, 0, 0, 0, 0, 0, 0, 0, 0, 0, 0, 0, 0, 0, 0, 0, 0, 0, 0, 0]\n",
        "\n",
        "마스크 인풋 : [1, 1, 1, 1, 1, 1, 1, 1, 1, 1, 1, 1, 1, 1, 1, 0, 0, 0, 0, 0, 0, 0, 0, 0, 0, 0, 0, 0, 0, 0, 0, 0, 0, 0, 0, 0, 0, 0, 0, 0, 0, 0, 0, 0, 0, 0, 0, 0, 0, 0, 0, 0, 0, 0, 0, 0, 0, 0, 0, 0, 0, 0, 0, 0, 0, 0, 0, 0, 0, 0, 0, 0, 0, 0, 0, 0, 0, 0, 0, 0, 0, 0, 0, 0, 0, 0, 0, 0, 0, 0, 0, 0, 0, 0, 0, 0, 0, 0, 0, 0, 0, 0, 0, 0, 0, 0, 0, 0, 0, 0, 0, 0, 0, 0, 0, 0, 0, 0, 0, 0, 0, 0, 0, 0, 0, 0, 0, 0]"
      ]
    },
    {
      "cell_type": "markdown",
      "metadata": {
        "id": "5LYpgPArzjiI"
      },
      "source": [
        "네이버 영화 평가 문장들을 버트 인풋으로 바꿔보도록 하겠습니다.  \n",
        "문장이 토큰 인풋, 세그먼트 인풋, 마스크 인풋으로 변환 됩니다.  \n",
        "huggingface에서는 순서가 [토큰 인풋, 마스크 인풋, 세그먼트 인풋] 입니다."
      ]
    },
    {
      "cell_type": "code",
      "metadata": {
        "id": "LFFokLO0sj_L",
        "colab": {
          "base_uri": "https://localhost:8080/"
        },
        "outputId": "b9a57d16-24f2-4b6b-a5f1-2462b912e0ad"
      },
      "source": [
        "def convert_data(data_df):\n",
        "    global tokenizer\n",
        "\n",
        "    SEQ_LEN = 64 #SEQ_LEN : 버트에 들어갈 인풋의 길이\n",
        "\n",
        "    tokens, masks, segments, targets = [], [], [], []\n",
        "\n",
        "    for i in tqdm(range(len(data_df))):\n",
        "        # token : 문장을 토큰화함\n",
        "        token = tokenizer.encode(data_df[DATA_COLUMN][i], truncation=True, padding='max_length', max_length=SEQ_LEN)\n",
        "\n",
        "        # 마스크는 토큰화한 문장에서 패딩이 아닌 부분은 1, 패딩인 부분은 0으로 통일\n",
        "        num_zeros = token.count(0)\n",
        "        mask = [1]*(SEQ_LEN-num_zeros) + [0]*num_zeros\n",
        "\n",
        "        # 문장의 전후관계를 구분해주는 세그먼트는 문장이 1개밖에 없으므로 모두 0\n",
        "        segment = [0]*SEQ_LEN\n",
        "\n",
        "        # 버트 인풋으로 들어가는 token, mask, segment를 tokens, segments에 각각 저장\n",
        "        tokens.append(token)\n",
        "        masks.append(mask)\n",
        "        segments.append(segment)\n",
        "\n",
        "        # 정답(긍정 : 1 부정 0)을 targets 변수에 저장해 줌\n",
        "        targets.append(data_df[LABEL_COLUMN][i])\n",
        "\n",
        "    # tokens, masks, segments, 정답 변수 targets를 numpy array로 지정\n",
        "    tokens = np.array(tokens)\n",
        "    masks = np.array(masks)\n",
        "    segments = np.array(segments)\n",
        "    targets = np.array(targets)\n",
        "\n",
        "    return [tokens, masks, segments], targets\n",
        "\n",
        "# 위에 정의한 convert_data 함수를 불러오는 함수를 정의\n",
        "def load_data(pandas_dataframe):\n",
        "    data_df = pandas_dataframe\n",
        "    data_df[DATA_COLUMN] = data_df[DATA_COLUMN].astype(str)\n",
        "    data_df[LABEL_COLUMN] = data_df[LABEL_COLUMN].astype(int)\n",
        "    data_x, data_y = convert_data(data_df)\n",
        "    return data_x, data_y\n",
        "\n",
        "SEQ_LEN = 64\n",
        "BATCH_SIZE = 32\n",
        "# 긍부정 문장을 포함하고 있는 칼럼\n",
        "DATA_COLUMN = \"document\"\n",
        "# 긍정인지 부정인지를 (1=긍정,0=부정) 포함하고 있는 칼럼\n",
        "LABEL_COLUMN = \"label\"\n",
        "\n",
        "# train 데이터를 버트 인풋에 맞게 변환\n",
        "train_x, train_y = load_data(train)"
      ],
      "execution_count": null,
      "outputs": [
        {
          "output_type": "stream",
          "name": "stderr",
          "text": [
            "100%|██████████| 150000/150000 [00:56<00:00, 2644.77it/s]\n"
          ]
        }
      ]
    },
    {
      "cell_type": "code",
      "metadata": {
        "id": "9ocb17LekZVn",
        "colab": {
          "base_uri": "https://localhost:8080/"
        },
        "outputId": "66ed13cc-5416-4f7c-f720-ccb91d53dcd0"
      },
      "source": [
        "# 훈련 성능을 검증한 test 데이터를 버트 인풋에 맞게 변환\n",
        "test_x, test_y = load_data(test)"
      ],
      "execution_count": null,
      "outputs": [
        {
          "output_type": "stream",
          "name": "stderr",
          "text": [
            "100%|██████████| 50000/50000 [00:10<00:00, 4649.28it/s]\n"
          ]
        }
      ]
    },
    {
      "cell_type": "markdown",
      "metadata": {
        "id": "45UY1wudwa3Q"
      },
      "source": [
        "## 버트를 활용한 감성분석 모델 만들기"
      ]
    },
    {
      "cell_type": "code",
      "metadata": {
        "id": "W85BlYfo2Wge",
        "colab": {
          "base_uri": "https://localhost:8080/",
          "height": 648,
          "referenced_widgets": [
            "696529dab2de418ca700c4b2a044aeba",
            "9160f56f6bc749098b43c196596686d9",
            "2c822134dced426a9866cca766b23286",
            "a5cb61a6dd504d8994d8d66bb27b7321",
            "07185ef1af2c4c3cacb9371307cb9d05",
            "a7a77acf1982466f9e85557263ca9d89",
            "25990000a0ef4bdb937ca9a0a016488b",
            "88255261ff52430aa0767484ae5e35c6",
            "751ccd9a193b41a2b73781be70ed540a",
            "b03fad67f16d4adca6389cc5c900a935",
            "72d139ac37664e118e6e3199d6381483"
          ]
        },
        "outputId": "5bdf4a04-e683-44ce-a230-4000fadb96b7"
      },
      "source": [
        "model = TFBertModel.from_pretrained(\"monologg/kobert\", from_pt=True)\n",
        "# 토큰 인풋, 마스크 인풋, 세그먼트 인풋 정의\n",
        "token_inputs = tf.keras.layers.Input((SEQ_LEN,), dtype=tf.int32, name='input_word_ids')\n",
        "mask_inputs = tf.keras.layers.Input((SEQ_LEN,), dtype=tf.int32, name='input_masks')\n",
        "segment_inputs = tf.keras.layers.Input((SEQ_LEN,), dtype=tf.int32, name='input_segment')\n",
        "# 인풋이 [토큰, 마스크, 세그먼트]인 모델 정의\n",
        "bert_outputs = model([token_inputs, mask_inputs, segment_inputs])"
      ],
      "execution_count": null,
      "outputs": [
        {
          "output_type": "stream",
          "name": "stderr",
          "text": [
            "loading configuration file config.json from cache at /root/.cache/huggingface/hub/models--monologg--kobert/snapshots/30941062c0f3dde73b246468f449f2448c7694bc/config.json\n",
            "Model config BertConfig {\n",
            "  \"architectures\": [\n",
            "    \"BertModel\"\n",
            "  ],\n",
            "  \"attention_probs_dropout_prob\": 0.1,\n",
            "  \"classifier_dropout\": null,\n",
            "  \"hidden_act\": \"gelu\",\n",
            "  \"hidden_dropout_prob\": 0.1,\n",
            "  \"hidden_size\": 768,\n",
            "  \"initializer_range\": 0.02,\n",
            "  \"intermediate_size\": 3072,\n",
            "  \"layer_norm_eps\": 1e-12,\n",
            "  \"max_position_embeddings\": 512,\n",
            "  \"model_type\": \"bert\",\n",
            "  \"num_attention_heads\": 12,\n",
            "  \"num_hidden_layers\": 12,\n",
            "  \"pad_token_id\": 1,\n",
            "  \"position_embedding_type\": \"absolute\",\n",
            "  \"transformers_version\": \"4.31.0\",\n",
            "  \"type_vocab_size\": 2,\n",
            "  \"use_cache\": true,\n",
            "  \"vocab_size\": 8002\n",
            "}\n",
            "\n"
          ]
        },
        {
          "output_type": "display_data",
          "data": {
            "text/plain": [
              "Downloading pytorch_model.bin:   0%|          | 0.00/369M [00:00<?, ?B/s]"
            ],
            "application/vnd.jupyter.widget-view+json": {
              "version_major": 2,
              "version_minor": 0,
              "model_id": "696529dab2de418ca700c4b2a044aeba"
            }
          },
          "metadata": {}
        },
        {
          "output_type": "stream",
          "name": "stderr",
          "text": [
            "loading weights file pytorch_model.bin from cache at /root/.cache/huggingface/hub/models--monologg--kobert/snapshots/30941062c0f3dde73b246468f449f2448c7694bc/pytorch_model.bin\n",
            "Loading PyTorch weights from /root/.cache/huggingface/hub/models--monologg--kobert/snapshots/30941062c0f3dde73b246468f449f2448c7694bc/pytorch_model.bin\n",
            "PyTorch checkpoint contains 92,186,880 parameters\n",
            "Loaded 92,186,880 parameters in the TF 2.0 model.\n",
            "All PyTorch model weights were used when initializing TFBertModel.\n",
            "\n",
            "All the weights of TFBertModel were initialized from the PyTorch model.\n",
            "If your task is similar to the task the model of the checkpoint was trained on, you can already use TFBertModel for predictions without further training.\n"
          ]
        }
      ]
    },
    {
      "cell_type": "code",
      "metadata": {
        "id": "6K52Z9my22mJ",
        "colab": {
          "base_uri": "https://localhost:8080/"
        },
        "outputId": "99e6ae18-bee0-45ff-fa29-4d907f8bf9f5"
      },
      "source": [
        "bert_outputs"
      ],
      "execution_count": null,
      "outputs": [
        {
          "output_type": "execute_result",
          "data": {
            "text/plain": [
              "TFBaseModelOutputWithPoolingAndCrossAttentions(last_hidden_state=<KerasTensor: shape=(None, 64, 768) dtype=float32 (created by layer 'tf_bert_model')>, pooler_output=<KerasTensor: shape=(None, 768) dtype=float32 (created by layer 'tf_bert_model')>, past_key_values=None, hidden_states=None, attentions=None, cross_attentions=None)"
            ]
          },
          "metadata": {},
          "execution_count": 22
        }
      ]
    },
    {
      "cell_type": "code",
      "metadata": {
        "id": "mmXsWp-x3mII"
      },
      "source": [
        "bert_outputs = bert_outputs[1]"
      ],
      "execution_count": null,
      "outputs": []
    },
    {
      "cell_type": "code",
      "metadata": {
        "id": "hiH25UmlK-R2",
        "colab": {
          "base_uri": "https://localhost:8080/"
        },
        "outputId": "00dc14ca-2972-4784-9259-a89ea420f726"
      },
      "source": [
        "# Rectified Adam 옵티마이저 사용\n",
        "!pip install tensorflow_addons\n",
        "import tensorflow_addons as tfa\n",
        "# 총 batch size * 4 epoch = 2344 * 4\n",
        "opt = tfa.optimizers.RectifiedAdam(lr=5.0e-5, total_steps = 2344*2, warmup_proportion=0.1, min_lr=1e-5, epsilon=1e-08, clipnorm=1.0)"
      ],
      "execution_count": null,
      "outputs": [
        {
          "output_type": "stream",
          "name": "stdout",
          "text": [
            "Collecting tensorflow_addons\n",
            "  Downloading tensorflow_addons-0.21.0-cp310-cp310-manylinux_2_17_x86_64.manylinux2014_x86_64.whl (612 kB)\n",
            "\u001b[2K     \u001b[90m━━━━━━━━━━━━━━━━━━━━━━━━━━━━━━━━━━━━━━━\u001b[0m \u001b[32m612.1/612.1 kB\u001b[0m \u001b[31m6.7 MB/s\u001b[0m eta \u001b[36m0:00:00\u001b[0m\n",
            "\u001b[?25hRequirement already satisfied: packaging in /usr/local/lib/python3.10/dist-packages (from tensorflow_addons) (23.1)\n",
            "Collecting typeguard<3.0.0,>=2.7 (from tensorflow_addons)\n",
            "  Downloading typeguard-2.13.3-py3-none-any.whl (17 kB)\n",
            "Installing collected packages: typeguard, tensorflow_addons\n",
            "Successfully installed tensorflow_addons-0.21.0 typeguard-2.13.3\n"
          ]
        },
        {
          "output_type": "stream",
          "name": "stderr",
          "text": [
            "/usr/local/lib/python3.10/dist-packages/tensorflow_addons/utils/tfa_eol_msg.py:23: UserWarning: \n",
            "\n",
            "TensorFlow Addons (TFA) has ended development and introduction of new features.\n",
            "TFA has entered a minimal maintenance and release mode until a planned end of life in May 2024.\n",
            "Please modify downstream libraries to take dependencies from other repositories in our TensorFlow community (e.g. Keras, Keras-CV, and Keras-NLP). \n",
            "\n",
            "For more information see: https://github.com/tensorflow/addons/issues/2807 \n",
            "\n",
            "  warnings.warn(\n",
            "/usr/local/lib/python3.10/dist-packages/tensorflow_addons/optimizers/rectified_adam.py:121: UserWarning: The `lr` argument is deprecated, use `learning_rate` instead.\n",
            "  super().__init__(name, **kwargs)\n"
          ]
        }
      ]
    },
    {
      "cell_type": "code",
      "metadata": {
        "id": "CXKy-Jsg3eKA"
      },
      "source": [
        "sentiment_drop = tf.keras.layers.Dropout(0.5)(bert_outputs)\n",
        "sentiment_first = tf.keras.layers.Dense(1, activation='sigmoid', kernel_initializer=tf.keras.initializers.TruncatedNormal(stddev=0.02))(sentiment_drop)\n",
        "sentiment_model = tf.keras.Model([token_inputs, mask_inputs, segment_inputs], sentiment_first)\n",
        "sentiment_model.compile(optimizer=opt, loss=tf.keras.losses.BinaryCrossentropy(), metrics = ['accuracy'])"
      ],
      "execution_count": null,
      "outputs": []
    },
    {
      "cell_type": "code",
      "metadata": {
        "id": "l4Si9oO33i70",
        "colab": {
          "base_uri": "https://localhost:8080/"
        },
        "outputId": "cceef7ff-decd-4904-d49b-df47c0da4f56"
      },
      "source": [
        "sentiment_model.summary()"
      ],
      "execution_count": null,
      "outputs": [
        {
          "output_type": "stream",
          "name": "stdout",
          "text": [
            "Model: \"model\"\n",
            "__________________________________________________________________________________________________\n",
            " Layer (type)                   Output Shape         Param #     Connected to                     \n",
            "==================================================================================================\n",
            " input_word_ids (InputLayer)    [(None, 64)]         0           []                               \n",
            "                                                                                                  \n",
            " input_masks (InputLayer)       [(None, 64)]         0           []                               \n",
            "                                                                                                  \n",
            " input_segment (InputLayer)     [(None, 64)]         0           []                               \n",
            "                                                                                                  \n",
            " tf_bert_model (TFBertModel)    TFBaseModelOutputWi  92186880    ['input_word_ids[0][0]',         \n",
            "                                thPoolingAndCrossAt               'input_masks[0][0]',            \n",
            "                                tentions(last_hidde               'input_segment[0][0]']          \n",
            "                                n_state=(None, 64,                                                \n",
            "                                768),                                                             \n",
            "                                 pooler_output=(Non                                               \n",
            "                                e, 768),                                                          \n",
            "                                 past_key_values=No                                               \n",
            "                                ne, hidden_states=N                                               \n",
            "                                one, attentions=Non                                               \n",
            "                                e, cross_attentions                                               \n",
            "                                =None)                                                            \n",
            "                                                                                                  \n",
            " dropout_37 (Dropout)           (None, 768)          0           ['tf_bert_model[0][1]']          \n",
            "                                                                                                  \n",
            " dense (Dense)                  (None, 1)            769         ['dropout_37[0][0]']             \n",
            "                                                                                                  \n",
            "==================================================================================================\n",
            "Total params: 92,187,649\n",
            "Trainable params: 92,187,649\n",
            "Non-trainable params: 0\n",
            "__________________________________________________________________________________________________\n"
          ]
        }
      ]
    },
    {
      "cell_type": "markdown",
      "metadata": {
        "id": "yI0_9hOAwp1-"
      },
      "source": [
        "## 훈련 및 성능 검증"
      ]
    },
    {
      "cell_type": "code",
      "metadata": {
        "id": "EXuNkLlUbHN3",
        "colab": {
          "base_uri": "https://localhost:8080/"
        },
        "outputId": "787d30f2-cd65-4e1a-85c7-751f5d63dc96"
      },
      "source": [
        "sentiment_model.fit(train_x, train_y, epochs=2, shuffle=True, batch_size=64, validation_data=(test_x, test_y))"
      ],
      "execution_count": null,
      "outputs": [
        {
          "output_type": "stream",
          "name": "stdout",
          "text": [
            "Epoch 1/2\n",
            "2344/2344 [==============================] - 835s 333ms/step - loss: 0.3891 - accuracy: 0.8036 - val_loss: 0.2828 - val_accuracy: 0.8825\n",
            "Epoch 2/2\n",
            "2344/2344 [==============================] - 774s 330ms/step - loss: 0.2367 - accuracy: 0.9045 - val_loss: 0.2563 - val_accuracy: 0.8968\n"
          ]
        },
        {
          "output_type": "execute_result",
          "data": {
            "text/plain": [
              "<keras.callbacks.History at 0x78862cb8fb20>"
            ]
          },
          "metadata": {},
          "execution_count": 27
        }
      ]
    },
    {
      "cell_type": "markdown",
      "metadata": {
        "id": "J1Gv3m_34nIX"
      },
      "source": [
        "훈련 모델의 예측 성능을 F1 SCORE로 체크하기 위한 작업"
      ]
    },
    {
      "cell_type": "code",
      "metadata": {
        "id": "Zjv6RMR1jYIe"
      },
      "source": [
        "def predict_convert_data(data_df):\n",
        "    global tokenizer\n",
        "    tokens, masks, segments = [], [], []\n",
        "\n",
        "    for i in tqdm(range(len(data_df))):\n",
        "\n",
        "        token = tokenizer.encode(data_df[DATA_COLUMN][i], max_length=SEQ_LEN, truncation=True, padding='max_length')\n",
        "        num_zeros = token.count(0)\n",
        "        mask = [1]*(SEQ_LEN-num_zeros) + [0]*num_zeros\n",
        "        segment = [0]*SEQ_LEN\n",
        "\n",
        "        tokens.append(token)\n",
        "        segments.append(segment)\n",
        "        masks.append(mask)\n",
        "\n",
        "    tokens = np.array(tokens)\n",
        "    masks = np.array(masks)\n",
        "    segments = np.array(segments)\n",
        "    return [tokens, masks, segments]\n",
        "\n",
        "# 위에 정의한 convert_data 함수를 불러오는 함수를 정의\n",
        "def predict_load_data(pandas_dataframe):\n",
        "    data_df = pandas_dataframe\n",
        "    data_df[DATA_COLUMN] = data_df[DATA_COLUMN].astype(str)\n",
        "    data_x = predict_convert_data(data_df)\n",
        "    return data_x"
      ],
      "execution_count": null,
      "outputs": []
    },
    {
      "cell_type": "markdown",
      "metadata": {
        "id": "1nyqBoQD4tz1"
      },
      "source": [
        "test 데이터 예측하기"
      ]
    },
    {
      "cell_type": "code",
      "metadata": {
        "id": "tzlfYX6xlFEk",
        "colab": {
          "base_uri": "https://localhost:8080/"
        },
        "outputId": "034ed1a6-acd7-42ba-98bb-2f0d2641b6ea"
      },
      "source": [
        "test_set = predict_load_data(test)"
      ],
      "execution_count": null,
      "outputs": [
        {
          "output_type": "stream",
          "name": "stderr",
          "text": [
            "100%|██████████| 50000/50000 [00:16<00:00, 2984.16it/s]\n"
          ]
        }
      ]
    },
    {
      "cell_type": "code",
      "metadata": {
        "id": "kpMD9Ua_7CNX",
        "colab": {
          "base_uri": "https://localhost:8080/"
        },
        "outputId": "db93dbef-3ade-49e2-f716-12b6248f9c9b"
      },
      "source": [
        "test_set"
      ],
      "execution_count": null,
      "outputs": [
        {
          "output_type": "execute_result",
          "data": {
            "text/plain": [
              "[array([[   2,  517, 5515, ...,    1,    1,    1],\n",
              "        [   2,  650,  278, ...,    1,    1,    1],\n",
              "        [   2, 2145, 6844, ...,    1,    1,    1],\n",
              "        ...,\n",
              "        [   2, 1212, 5859, ...,    1,    1,    1],\n",
              "        [   2, 4069, 2420, ...,    1,    1,    1],\n",
              "        [   2, 1914, 5760, ...,    1,    1,    1]]),\n",
              " array([[1, 1, 1, ..., 1, 1, 1],\n",
              "        [1, 1, 1, ..., 1, 1, 1],\n",
              "        [1, 1, 1, ..., 1, 1, 1],\n",
              "        ...,\n",
              "        [1, 1, 1, ..., 1, 1, 1],\n",
              "        [1, 1, 1, ..., 1, 1, 1],\n",
              "        [1, 1, 1, ..., 1, 1, 1]]),\n",
              " array([[0, 0, 0, ..., 0, 0, 0],\n",
              "        [0, 0, 0, ..., 0, 0, 0],\n",
              "        [0, 0, 0, ..., 0, 0, 0],\n",
              "        ...,\n",
              "        [0, 0, 0, ..., 0, 0, 0],\n",
              "        [0, 0, 0, ..., 0, 0, 0],\n",
              "        [0, 0, 0, ..., 0, 0, 0]])]"
            ]
          },
          "metadata": {},
          "execution_count": 30
        }
      ]
    },
    {
      "cell_type": "code",
      "metadata": {
        "id": "hkYBo-dklM8O",
        "colab": {
          "base_uri": "https://localhost:8080/"
        },
        "outputId": "3d77139a-f028-4b54-ecf9-395086b7510d"
      },
      "source": [
        "preds = sentiment_model.predict(test_set)"
      ],
      "execution_count": null,
      "outputs": [
        {
          "output_type": "stream",
          "name": "stdout",
          "text": [
            "1563/1563 [==============================] - 113s 69ms/step\n"
          ]
        }
      ]
    },
    {
      "cell_type": "code",
      "metadata": {
        "id": "rQ_8XP0ylOe2",
        "colab": {
          "base_uri": "https://localhost:8080/"
        },
        "outputId": "341e822b-1746-42ff-a0b5-25301fda8906"
      },
      "source": [
        "# 부정이면 0, 긍정이면 1 출력\n",
        "preds"
      ],
      "execution_count": null,
      "outputs": [
        {
          "output_type": "execute_result",
          "data": {
            "text/plain": [
              "array([[0.9884615 ],\n",
              "       [0.83938813],\n",
              "       [0.7446208 ],\n",
              "       ...,\n",
              "       [0.6205979 ],\n",
              "       [0.00485093],\n",
              "       [0.25670037]], dtype=float32)"
            ]
          },
          "metadata": {},
          "execution_count": 32
        }
      ]
    },
    {
      "cell_type": "markdown",
      "metadata": {
        "id": "rAJxrViQ4woJ"
      },
      "source": [
        "우리가 훈련한 모델을 F1 SCORE를 바탕으로 성능 측정  \n",
        "F1 SCORE는 precision과 recall을 가중평균하여 계산합니다  \n",
        "recall은 (모델이 TRUE라고 판정한 것의 숫자)/(전체 TRUE의 숫자)  \n",
        "precision은 (진짜 TRUE) / (모델이 TRUE라고 판정한 것의 숫자)"
      ]
    },
    {
      "cell_type": "code",
      "metadata": {
        "id": "3zXTpL9alPml",
        "colab": {
          "base_uri": "https://localhost:8080/"
        },
        "outputId": "bdfc7f35-c016-4a75-ff87-e7af793abcf0"
      },
      "source": [
        "from sklearn.metrics import classification_report\n",
        "y_true = test['label']\n",
        "# F1 Score 확인\n",
        "print(classification_report(y_true, np.round(preds,0)))"
      ],
      "execution_count": null,
      "outputs": [
        {
          "output_type": "stream",
          "name": "stdout",
          "text": [
            "              precision    recall  f1-score   support\n",
            "\n",
            "           0       0.90      0.89      0.90     24827\n",
            "           1       0.89      0.91      0.90     25173\n",
            "\n",
            "    accuracy                           0.90     50000\n",
            "   macro avg       0.90      0.90      0.90     50000\n",
            "weighted avg       0.90      0.90      0.90     50000\n",
            "\n"
          ]
        }
      ]
    },
    {
      "cell_type": "code",
      "metadata": {
        "id": "03mZ0D7urOl9"
      },
      "source": [
        "import logging\n",
        "tf.get_logger().setLevel(logging.ERROR)"
      ],
      "execution_count": null,
      "outputs": []
    },
    {
      "cell_type": "markdown",
      "metadata": {
        "id": "6gVoWj_Mwwhq"
      },
      "source": [
        "# 실제 데이터로 실습하기"
      ]
    },
    {
      "cell_type": "markdown",
      "metadata": {
        "id": "6U4-Xd9251W6"
      },
      "source": [
        "문장 하나 하나를 가지고 실제로 분류해보도록 하겠습니다.  "
      ]
    },
    {
      "cell_type": "code",
      "metadata": {
        "id": "VGNnQs0Tlbiv"
      },
      "source": [
        "def sentence_convert_data(data):\n",
        "    global tokenizer\n",
        "    tokens, masks, segments = [], [], []\n",
        "    token = tokenizer.encode(data, max_length=SEQ_LEN, truncation=True, padding='max_length')\n",
        "\n",
        "    num_zeros = token.count(0)\n",
        "    mask = [1]*(SEQ_LEN-num_zeros) + [0]*num_zeros\n",
        "    segment = [0]*SEQ_LEN\n",
        "\n",
        "    tokens.append(token)\n",
        "    segments.append(segment)\n",
        "    masks.append(mask)\n",
        "\n",
        "    tokens = np.array(tokens)\n",
        "    masks = np.array(masks)\n",
        "    segments = np.array(segments)\n",
        "    return [tokens, masks, segments]\n",
        "\n",
        "def movie_evaluation_predict(sentence):\n",
        "    data_x = sentence_convert_data(sentence)\n",
        "    predict = sentiment_model.predict(data_x)\n",
        "    predict_value = np.ravel(predict)\n",
        "    predict_answer = np.round(predict_value,0).item()\n",
        "\n",
        "    if predict_answer == 0:\n",
        "      print(\"(부정 확률 : %.2f) 부정적인 영화 평가입니다.\" % (1-predict_value))\n",
        "    elif predict_answer == 1:\n",
        "      print(\"(긍정 확률 : %.2f) 긍정적인 영화 평가입니다.\" % predict_value)"
      ],
      "execution_count": null,
      "outputs": []
    },
    {
      "cell_type": "code",
      "metadata": {
        "id": "goaRkOc6l8mL",
        "colab": {
          "base_uri": "https://localhost:8080/"
        },
        "outputId": "6617ec34-a906-41c9-caee-4be68e9ed2f1"
      },
      "source": [
        "movie_evaluation_predict(\"보던거라 계속보고있는데 전개도 느리고 주인공인 은희는 한두컷 나오면서 소극적인모습에 \")"
      ],
      "execution_count": null,
      "outputs": [
        {
          "output_type": "stream",
          "name": "stdout",
          "text": [
            "1/1 [==============================] - 0s 49ms/step\n",
            "(부정 확률 : 0.97) 부정적인 영화 평가입니다.\n"
          ]
        }
      ]
    },
    {
      "cell_type": "code",
      "metadata": {
        "id": "NRpq1b-Zo3Oa",
        "colab": {
          "base_uri": "https://localhost:8080/"
        },
        "outputId": "dfef15c7-4af3-4673-9981-2cf3081bdb6b"
      },
      "source": [
        "movie_evaluation_predict(\"스토리는 확실히 실망이였지만 배우들 연기력이 대박이였다 특히 이제훈 연기 정말 ... 이 배우들로 이렇게밖에 만들지 못한 영화는 아쉽지만 배우들 연기력과 사운드는 정말 빛났던 영화. 기대하고 극장에서 보면 많이 실망했겠지만 평점보고 기대없이 집에서 편하게 보면 괜찮아요. 이제훈님 연기력은 최고인 것 같습니다\")"
      ],
      "execution_count": null,
      "outputs": [
        {
          "output_type": "stream",
          "name": "stdout",
          "text": [
            "1/1 [==============================] - 0s 43ms/step\n",
            "(긍정 확률 : 0.99) 긍정적인 영화 평가입니다.\n"
          ]
        }
      ]
    },
    {
      "cell_type": "code",
      "metadata": {
        "id": "gX6aA3NPuVuT",
        "colab": {
          "base_uri": "https://localhost:8080/"
        },
        "outputId": "6b5d23e8-35b3-44fe-dc85-d06aa9ab6648"
      },
      "source": [
        "movie_evaluation_predict(\"남친이 이 영화를 보고 헤어지자고한 영화. 자유롭게 살고 싶다고 한다. 내가 무슨 나비를 잡은 덫마냥 나에겐 다시 보고싶지 않은 영화.\")"
      ],
      "execution_count": null,
      "outputs": [
        {
          "output_type": "stream",
          "name": "stdout",
          "text": [
            "1/1 [==============================] - 0s 43ms/step\n",
            "(부정 확률 : 0.93) 부정적인 영화 평가입니다.\n"
          ]
        }
      ]
    },
    {
      "cell_type": "code",
      "source": [
        "!nvidia-smi"
      ],
      "metadata": {
        "colab": {
          "base_uri": "https://localhost:8080/"
        },
        "id": "h6RuD2iyRvwZ",
        "outputId": "2081ee7d-702e-4570-e744-70e0716533c9"
      },
      "execution_count": null,
      "outputs": [
        {
          "output_type": "stream",
          "name": "stdout",
          "text": [
            "Tue Aug 22 02:59:17 2023       \n",
            "+-----------------------------------------------------------------------------+\n",
            "| NVIDIA-SMI 525.105.17   Driver Version: 525.105.17   CUDA Version: 12.0     |\n",
            "|-------------------------------+----------------------+----------------------+\n",
            "| GPU  Name        Persistence-M| Bus-Id        Disp.A | Volatile Uncorr. ECC |\n",
            "| Fan  Temp  Perf  Pwr:Usage/Cap|         Memory-Usage | GPU-Util  Compute M. |\n",
            "|                               |                      |               MIG M. |\n",
            "|===============================+======================+======================|\n",
            "|   0  Tesla V100-SXM2...  Off  | 00000000:00:04.0 Off |                    0 |\n",
            "| N/A   39C    P0    40W / 300W |   8866MiB / 16384MiB |      5%      Default |\n",
            "|                               |                      |                  N/A |\n",
            "+-------------------------------+----------------------+----------------------+\n",
            "                                                                               \n",
            "+-----------------------------------------------------------------------------+\n",
            "| Processes:                                                                  |\n",
            "|  GPU   GI   CI        PID   Type   Process name                  GPU Memory |\n",
            "|        ID   ID                                                   Usage      |\n",
            "|=============================================================================|\n",
            "+-----------------------------------------------------------------------------+\n"
          ]
        }
      ]
    }
  ]
}